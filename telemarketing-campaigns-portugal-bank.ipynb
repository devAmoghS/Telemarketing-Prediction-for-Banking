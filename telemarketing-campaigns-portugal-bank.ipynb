{
 "cells": [
  {
   "cell_type": "code",
   "execution_count": 1,
   "metadata": {
    "_cell_guid": "b1076dfc-b9ad-4769-8c92-a6c4dae69d19",
    "_uuid": "8f2839f25d086af736a60e9eeb907d3b93b6e0e5",
    "execution": {
     "iopub.execute_input": "2020-10-08T19:13:33.581262Z",
     "iopub.status.busy": "2020-10-08T19:13:33.580408Z",
     "iopub.status.idle": "2020-10-08T19:13:33.592370Z",
     "shell.execute_reply": "2020-10-08T19:13:33.593576Z"
    },
    "papermill": {
     "duration": 0.126171,
     "end_time": "2020-10-08T19:13:33.593847",
     "exception": false,
     "start_time": "2020-10-08T19:13:33.467676",
     "status": "completed"
    },
    "tags": []
   },
   "outputs": [
    {
     "name": "stdout",
     "output_type": "stream",
     "text": [
      "/kaggle/input/bank-marketing-campaigns-dataset/bank-additional-full.csv\n"
     ]
    }
   ],
   "source": [
    "# This Python 3 environment comes with many helpful analytics libraries installed\n",
    "# It is defined by the kaggle/python Docker image: https://github.com/kaggle/docker-python\n",
    "# For example, here's several helpful packages to load\n",
    "\n",
    "import numpy as np # linear algebra\n",
    "import pandas as pd # data processing, CSV file I/O (e.g. pd.read_csv)\n",
    "\n",
    "# Input data files are available in the read-only \"../input/\" directory\n",
    "# For example, running this (by clicking run or pressing Shift+Enter) will list all files under the input directory\n",
    "\n",
    "import os\n",
    "for dirname, _, filenames in os.walk('/kaggle/input'):\n",
    "    for filename in filenames:\n",
    "        print(os.path.join(dirname, filename))\n",
    "\n",
    "# You can write up to 5GB to the current directory (/kaggle/working/) that gets preserved as output when you create a version using \"Save & Run All\" \n",
    "# You can also write temporary files to /kaggle/temp/, but they won't be saved outside of the current session"
   ]
  },
  {
   "cell_type": "markdown",
   "metadata": {
    "papermill": {
     "duration": 0.092897,
     "end_time": "2020-10-08T19:13:33.789913",
     "exception": false,
     "start_time": "2020-10-08T19:13:33.697016",
     "status": "completed"
    },
    "tags": []
   },
   "source": [
    "# Libraries"
   ]
  },
  {
   "cell_type": "code",
   "execution_count": 2,
   "metadata": {
    "execution": {
     "iopub.execute_input": "2020-10-08T19:13:33.988403Z",
     "iopub.status.busy": "2020-10-08T19:13:33.987620Z",
     "iopub.status.idle": "2020-10-08T19:13:36.621948Z",
     "shell.execute_reply": "2020-10-08T19:13:36.622765Z"
    },
    "papermill": {
     "duration": 2.73965,
     "end_time": "2020-10-08T19:13:36.622977",
     "exception": false,
     "start_time": "2020-10-08T19:13:33.883327",
     "status": "completed"
    },
    "tags": []
   },
   "outputs": [],
   "source": [
    "import time\n",
    "\n",
    "# importing libraries\n",
    "import numpy as np\n",
    "import pandas as pd\n",
    "import seaborn as sns\n",
    "import matplotlib.pyplot as plt\n",
    "from scipy import special, stats\n",
    "\n",
    "# preprocessing\n",
    "from sklearn.preprocessing import LabelEncoder\n",
    "from sklearn.preprocessing import StandardScaler\n",
    "\n",
    "\n",
    "# model selection\n",
    "from sklearn.model_selection import train_test_split\n",
    "from sklearn.model_selection import GridSearchCV, RandomizedSearchCV\n",
    "from sklearn.model_selection import StratifiedKFold, cross_val_score\n",
    "\n",
    "\n",
    "# SMOTe\n",
    "from imblearn.over_sampling import SMOTE\n",
    "\n",
    "# models\n",
    "from sklearn.linear_model import LogisticRegression\n",
    "from sklearn.tree import DecisionTreeClassifier\n",
    "from sklearn.ensemble import RandomForestClassifier\n",
    "\n",
    "\n",
    "# metrics\n",
    "from sklearn.metrics import classification_report, confusion_matrix, accuracy_score, average_precision_score, precision_recall_curve \n",
    "from sklearn.metrics import recall_score, roc_curve, roc_auc_score, precision_recall_curve, auc, plot_confusion_matrix\n",
    "\n",
    "# ensemble\n",
    "from xgboost import XGBClassifier\n",
    "\n",
    "# warnings\n",
    "import warnings\n",
    "warnings.filterwarnings(\"ignore\")\n",
    "\n",
    "# style\n",
    "import matplotlib.style as style\n",
    "style.use('fivethirtyeight')"
   ]
  },
  {
   "cell_type": "code",
   "execution_count": 3,
   "metadata": {
    "_cell_guid": "79c7e3d0-c299-4dcb-8224-4455121ee9b0",
    "_uuid": "d629ff2d2480ee46fbb7e2d37f6b5fab8052498a",
    "execution": {
     "iopub.execute_input": "2020-10-08T19:13:36.825728Z",
     "iopub.status.busy": "2020-10-08T19:13:36.824947Z",
     "iopub.status.idle": "2020-10-08T19:13:37.014267Z",
     "shell.execute_reply": "2020-10-08T19:13:37.013455Z"
    },
    "papermill": {
     "duration": 0.290047,
     "end_time": "2020-10-08T19:13:37.014407",
     "exception": false,
     "start_time": "2020-10-08T19:13:36.724360",
     "status": "completed"
    },
    "tags": []
   },
   "outputs": [],
   "source": [
    "df = pd.read_csv('/kaggle/input/bank-marketing-campaigns-dataset/bank-additional-full.csv', sep=';')"
   ]
  },
  {
   "cell_type": "code",
   "execution_count": 4,
   "metadata": {
    "execution": {
     "iopub.execute_input": "2020-10-08T19:13:37.208002Z",
     "iopub.status.busy": "2020-10-08T19:13:37.206779Z",
     "iopub.status.idle": "2020-10-08T19:13:37.211007Z",
     "shell.execute_reply": "2020-10-08T19:13:37.211609Z"
    },
    "papermill": {
     "duration": 0.105121,
     "end_time": "2020-10-08T19:13:37.211766",
     "exception": false,
     "start_time": "2020-10-08T19:13:37.106645",
     "status": "completed"
    },
    "tags": []
   },
   "outputs": [
    {
     "data": {
      "text/plain": [
       "(41188, 21)"
      ]
     },
     "execution_count": 4,
     "metadata": {},
     "output_type": "execute_result"
    }
   ],
   "source": [
    "df.shape"
   ]
  },
  {
   "cell_type": "code",
   "execution_count": 5,
   "metadata": {
    "execution": {
     "iopub.execute_input": "2020-10-08T19:13:37.425250Z",
     "iopub.status.busy": "2020-10-08T19:13:37.422056Z",
     "iopub.status.idle": "2020-10-08T19:13:37.442711Z",
     "shell.execute_reply": "2020-10-08T19:13:37.443280Z"
    },
    "papermill": {
     "duration": 0.138103,
     "end_time": "2020-10-08T19:13:37.443460",
     "exception": false,
     "start_time": "2020-10-08T19:13:37.305357",
     "status": "completed"
    },
    "tags": []
   },
   "outputs": [
    {
     "data": {
      "text/html": [
       "<div>\n",
       "<style scoped>\n",
       "    .dataframe tbody tr th:only-of-type {\n",
       "        vertical-align: middle;\n",
       "    }\n",
       "\n",
       "    .dataframe tbody tr th {\n",
       "        vertical-align: top;\n",
       "    }\n",
       "\n",
       "    .dataframe thead th {\n",
       "        text-align: right;\n",
       "    }\n",
       "</style>\n",
       "<table border=\"1\" class=\"dataframe\">\n",
       "  <thead>\n",
       "    <tr style=\"text-align: right;\">\n",
       "      <th></th>\n",
       "      <th>age</th>\n",
       "      <th>job</th>\n",
       "      <th>marital</th>\n",
       "      <th>education</th>\n",
       "      <th>default</th>\n",
       "      <th>housing</th>\n",
       "      <th>loan</th>\n",
       "      <th>contact</th>\n",
       "      <th>month</th>\n",
       "      <th>day_of_week</th>\n",
       "      <th>...</th>\n",
       "      <th>campaign</th>\n",
       "      <th>pdays</th>\n",
       "      <th>previous</th>\n",
       "      <th>poutcome</th>\n",
       "      <th>emp.var.rate</th>\n",
       "      <th>cons.price.idx</th>\n",
       "      <th>cons.conf.idx</th>\n",
       "      <th>euribor3m</th>\n",
       "      <th>nr.employed</th>\n",
       "      <th>y</th>\n",
       "    </tr>\n",
       "  </thead>\n",
       "  <tbody>\n",
       "    <tr>\n",
       "      <th>0</th>\n",
       "      <td>56</td>\n",
       "      <td>housemaid</td>\n",
       "      <td>married</td>\n",
       "      <td>basic.4y</td>\n",
       "      <td>no</td>\n",
       "      <td>no</td>\n",
       "      <td>no</td>\n",
       "      <td>telephone</td>\n",
       "      <td>may</td>\n",
       "      <td>mon</td>\n",
       "      <td>...</td>\n",
       "      <td>1</td>\n",
       "      <td>999</td>\n",
       "      <td>0</td>\n",
       "      <td>nonexistent</td>\n",
       "      <td>1.1</td>\n",
       "      <td>93.994</td>\n",
       "      <td>-36.4</td>\n",
       "      <td>4.857</td>\n",
       "      <td>5191.0</td>\n",
       "      <td>no</td>\n",
       "    </tr>\n",
       "    <tr>\n",
       "      <th>1</th>\n",
       "      <td>57</td>\n",
       "      <td>services</td>\n",
       "      <td>married</td>\n",
       "      <td>high.school</td>\n",
       "      <td>unknown</td>\n",
       "      <td>no</td>\n",
       "      <td>no</td>\n",
       "      <td>telephone</td>\n",
       "      <td>may</td>\n",
       "      <td>mon</td>\n",
       "      <td>...</td>\n",
       "      <td>1</td>\n",
       "      <td>999</td>\n",
       "      <td>0</td>\n",
       "      <td>nonexistent</td>\n",
       "      <td>1.1</td>\n",
       "      <td>93.994</td>\n",
       "      <td>-36.4</td>\n",
       "      <td>4.857</td>\n",
       "      <td>5191.0</td>\n",
       "      <td>no</td>\n",
       "    </tr>\n",
       "    <tr>\n",
       "      <th>2</th>\n",
       "      <td>37</td>\n",
       "      <td>services</td>\n",
       "      <td>married</td>\n",
       "      <td>high.school</td>\n",
       "      <td>no</td>\n",
       "      <td>yes</td>\n",
       "      <td>no</td>\n",
       "      <td>telephone</td>\n",
       "      <td>may</td>\n",
       "      <td>mon</td>\n",
       "      <td>...</td>\n",
       "      <td>1</td>\n",
       "      <td>999</td>\n",
       "      <td>0</td>\n",
       "      <td>nonexistent</td>\n",
       "      <td>1.1</td>\n",
       "      <td>93.994</td>\n",
       "      <td>-36.4</td>\n",
       "      <td>4.857</td>\n",
       "      <td>5191.0</td>\n",
       "      <td>no</td>\n",
       "    </tr>\n",
       "    <tr>\n",
       "      <th>3</th>\n",
       "      <td>40</td>\n",
       "      <td>admin.</td>\n",
       "      <td>married</td>\n",
       "      <td>basic.6y</td>\n",
       "      <td>no</td>\n",
       "      <td>no</td>\n",
       "      <td>no</td>\n",
       "      <td>telephone</td>\n",
       "      <td>may</td>\n",
       "      <td>mon</td>\n",
       "      <td>...</td>\n",
       "      <td>1</td>\n",
       "      <td>999</td>\n",
       "      <td>0</td>\n",
       "      <td>nonexistent</td>\n",
       "      <td>1.1</td>\n",
       "      <td>93.994</td>\n",
       "      <td>-36.4</td>\n",
       "      <td>4.857</td>\n",
       "      <td>5191.0</td>\n",
       "      <td>no</td>\n",
       "    </tr>\n",
       "    <tr>\n",
       "      <th>4</th>\n",
       "      <td>56</td>\n",
       "      <td>services</td>\n",
       "      <td>married</td>\n",
       "      <td>high.school</td>\n",
       "      <td>no</td>\n",
       "      <td>no</td>\n",
       "      <td>yes</td>\n",
       "      <td>telephone</td>\n",
       "      <td>may</td>\n",
       "      <td>mon</td>\n",
       "      <td>...</td>\n",
       "      <td>1</td>\n",
       "      <td>999</td>\n",
       "      <td>0</td>\n",
       "      <td>nonexistent</td>\n",
       "      <td>1.1</td>\n",
       "      <td>93.994</td>\n",
       "      <td>-36.4</td>\n",
       "      <td>4.857</td>\n",
       "      <td>5191.0</td>\n",
       "      <td>no</td>\n",
       "    </tr>\n",
       "  </tbody>\n",
       "</table>\n",
       "<p>5 rows × 21 columns</p>\n",
       "</div>"
      ],
      "text/plain": [
       "   age        job  marital    education  default housing loan    contact  \\\n",
       "0   56  housemaid  married     basic.4y       no      no   no  telephone   \n",
       "1   57   services  married  high.school  unknown      no   no  telephone   \n",
       "2   37   services  married  high.school       no     yes   no  telephone   \n",
       "3   40     admin.  married     basic.6y       no      no   no  telephone   \n",
       "4   56   services  married  high.school       no      no  yes  telephone   \n",
       "\n",
       "  month day_of_week  ...  campaign  pdays  previous     poutcome emp.var.rate  \\\n",
       "0   may         mon  ...         1    999         0  nonexistent          1.1   \n",
       "1   may         mon  ...         1    999         0  nonexistent          1.1   \n",
       "2   may         mon  ...         1    999         0  nonexistent          1.1   \n",
       "3   may         mon  ...         1    999         0  nonexistent          1.1   \n",
       "4   may         mon  ...         1    999         0  nonexistent          1.1   \n",
       "\n",
       "   cons.price.idx  cons.conf.idx  euribor3m  nr.employed   y  \n",
       "0          93.994          -36.4      4.857       5191.0  no  \n",
       "1          93.994          -36.4      4.857       5191.0  no  \n",
       "2          93.994          -36.4      4.857       5191.0  no  \n",
       "3          93.994          -36.4      4.857       5191.0  no  \n",
       "4          93.994          -36.4      4.857       5191.0  no  \n",
       "\n",
       "[5 rows x 21 columns]"
      ]
     },
     "execution_count": 5,
     "metadata": {},
     "output_type": "execute_result"
    }
   ],
   "source": [
    "df.head()"
   ]
  },
  {
   "cell_type": "markdown",
   "metadata": {
    "papermill": {
     "duration": 0.094809,
     "end_time": "2020-10-08T19:13:37.633727",
     "exception": false,
     "start_time": "2020-10-08T19:13:37.538918",
     "status": "completed"
    },
    "tags": []
   },
   "source": [
    "# Data Dictionary"
   ]
  },
  {
   "cell_type": "markdown",
   "metadata": {
    "papermill": {
     "duration": 0.094997,
     "end_time": "2020-10-08T19:13:37.822185",
     "exception": false,
     "start_time": "2020-10-08T19:13:37.727188",
     "status": "completed"
    },
    "tags": []
   },
   "source": [
    "| Input variables:                                         |                                                                                                                                                                                                                                                                                                                                                                                                                              |                                                                |   |\n",
    "|----------------------------------------------------------|------------------------------------------------------------------------------------------------------------------------------------------------------------------------------------------------------------------------------------------------------------------------------------------------------------------------------------------------------------------------------------------------------------------------------|----------------------------------------------------------------|---|\n",
    "| # bank client data:                                      |                                                                                                                                                                                                                                                                                                                                                                                                                              |                                                                |   |\n",
    "| 1                                                        | age (numeric)                                                                                                                                                                                                                                                                                                                                                                                                                |                                                                |   |\n",
    "| 2                                                        | job : type of job (categorical: 'admin.','blue-collar','entrepreneur','housemaid','management','retired','self-employed','services','student','technician','unemployed','unknown')                                                                                                                                                                                                                                           |                                                                |   |\n",
    "| 3                                                        | marital : marital status (categorical: 'divorced','married','single','unknown'; note: 'divorced' means divorced or widowed)                                                                                                                                                                                                                                                                                                  |                                                                |   |\n",
    "| 4                                                        | education (categorical: 'basic.4y','basic.6y','basic.9y','high.school','illiterate','professional.course','university.degree','unknown')                                                                                                                                                                                                                                                                                     |                                                                |   |\n",
    "| 5                                                        | default: has credit in default? (categorical: 'no','yes','unknown')                                                                                                                                                                                                                                                                                                                                                          |                                                                |   |\n",
    "| 6                                                        | housing: has housing loan? (categorical: 'no','yes','unknown')                                                                                                                                                                                                                                                                                                                                                               |                                                                |   |\n",
    "| 7                                                        | loan: has personal loan? (categorical: 'no','yes','unknown')                                                                                                                                                                                                                                                                                                                                                                 |                                                                |   |\n",
    "| # related with the last contact of the current campaign: |                                                                                                                                                                                                                                                                                                                                                                                                                              |                                                                |   |\n",
    "| 8                                                        | contact: contact communication type (categorical: 'cellular','telephone')                                                                                                                                                                                                                                                                                                                                                    |                                                                |   |\n",
    "| 9                                                        | month: last contact month of year (categorical: 'jan', 'feb', 'mar', ..., 'nov', 'dec')                                                                                                                                                                                                                                                                                                                                      |                                                                |   |\n",
    "| 10                                                       | day_of_week: last contact day of the week (categorical: 'mon','tue','wed','thu','fri')                                                                                                                                                                                                                                                                                                                                       |                                                                |   |\n",
    "| 11                                                       | duration: last contact duration, in seconds (numeric). Important note: this attribute highly affects the output target (e.g., if duration=0 then y='no'). Yet, the duration is not known before a call is performed. Also, after the end of the call y is obviously known. Thus, this input should only be included for benchmark purposes and should be discarded if the intention is to have a realistic predictive model. |                                                                |   |\n",
    "| # other attributes:                                      |                                                                                                                                                                                                                                                                                                                                                                                                                              |                                                                |   |\n",
    "| 12                                                       | campaign: number of contacts performed during this campaign and for this client (numeric, includes last contact)                                                                                                                                                                                                                                                                                                             |                                                                |   |\n",
    "| 13                                                       | pdays: number of days that passed by after the client was last contacted from a previous campaign (numeric; 999 means client was not previously contacted)                                                                                                                                                                                                                                                                   |                                                                |   |\n",
    "| 14                                                       | previous: number of contacts performed before this campaign and for this client (numeric)                                                                                                                                                                                                                                                                                                                                    |                                                                |   |\n",
    "| 15                                                       | poutcome: outcome of the previous marketing campaign (categorical: 'failure','nonexistent','success')                                                                                                                                                                                                                                                                                                                        |                                                                |   |\n",
    "| # social and economic context attributes                 |                                                                                                                                                                                                                                                                                                                                                                                                                              |                                                                |   |\n",
    "| 16                                                       | emp.var.rate: employment variation rate                                                                                                                                                                                                                                                                                                                                                                                      | quarterly indicator (numeric)                                  |   |\n",
    "| 17                                                       | cons.price.idx: consumer price index                                                                                                                                                                                                                                                                                                                                                                                         | monthly indicator (numeric)                                    |   |\n",
    "| 18                                                       | cons.conf.idx: consumer confidence index                                                                                                                                                                                                                                                                                                                                                                                     | monthly indicator (numeric)                                    |   |\n",
    "| 19                                                       | euribor3m: euribor 3 month rate                                                                                                                                                                                                                                                                                                                                                                                              | daily indicator (numeric)                                      |   |\n",
    "| 20                                                       | nr.employed: number of employees                                                                                                                                                                                                                                                                                                                                                                                             | quarterly indicator (numeric)                                  |   |\n",
    "| Output variable (desired target):                        |                                                                                                                                                                                                                                                                                                                                                                                                                              |                                                                |   |\n",
    "| 21                                                       | y                                                                                                                                                                                                                                                                                                                                                                                                                            | has the client subscribed a term deposit? (binary: 'yes','no') |   |"
   ]
  },
  {
   "cell_type": "code",
   "execution_count": 6,
   "metadata": {
    "execution": {
     "iopub.execute_input": "2020-10-08T19:13:38.064215Z",
     "iopub.status.busy": "2020-10-08T19:13:38.015645Z",
     "iopub.status.idle": "2020-10-08T19:13:38.085410Z",
     "shell.execute_reply": "2020-10-08T19:13:38.084234Z"
    },
    "papermill": {
     "duration": 0.169732,
     "end_time": "2020-10-08T19:13:38.085580",
     "exception": false,
     "start_time": "2020-10-08T19:13:37.915848",
     "status": "completed"
    },
    "tags": []
   },
   "outputs": [
    {
     "name": "stdout",
     "output_type": "stream",
     "text": [
      "<class 'pandas.core.frame.DataFrame'>\n",
      "RangeIndex: 41188 entries, 0 to 41187\n",
      "Data columns (total 21 columns):\n",
      " #   Column          Non-Null Count  Dtype  \n",
      "---  ------          --------------  -----  \n",
      " 0   age             41188 non-null  int64  \n",
      " 1   job             41188 non-null  object \n",
      " 2   marital         41188 non-null  object \n",
      " 3   education       41188 non-null  object \n",
      " 4   default         41188 non-null  object \n",
      " 5   housing         41188 non-null  object \n",
      " 6   loan            41188 non-null  object \n",
      " 7   contact         41188 non-null  object \n",
      " 8   month           41188 non-null  object \n",
      " 9   day_of_week     41188 non-null  object \n",
      " 10  duration        41188 non-null  int64  \n",
      " 11  campaign        41188 non-null  int64  \n",
      " 12  pdays           41188 non-null  int64  \n",
      " 13  previous        41188 non-null  int64  \n",
      " 14  poutcome        41188 non-null  object \n",
      " 15  emp.var.rate    41188 non-null  float64\n",
      " 16  cons.price.idx  41188 non-null  float64\n",
      " 17  cons.conf.idx   41188 non-null  float64\n",
      " 18  euribor3m       41188 non-null  float64\n",
      " 19  nr.employed     41188 non-null  float64\n",
      " 20  y               41188 non-null  object \n",
      "dtypes: float64(5), int64(5), object(11)\n",
      "memory usage: 6.6+ MB\n"
     ]
    }
   ],
   "source": [
    "df.info()"
   ]
  },
  {
   "cell_type": "code",
   "execution_count": 7,
   "metadata": {
    "execution": {
     "iopub.execute_input": "2020-10-08T19:13:38.289153Z",
     "iopub.status.busy": "2020-10-08T19:13:38.288311Z",
     "iopub.status.idle": "2020-10-08T19:13:38.291694Z",
     "shell.execute_reply": "2020-10-08T19:13:38.291072Z"
    },
    "papermill": {
     "duration": 0.109051,
     "end_time": "2020-10-08T19:13:38.291823",
     "exception": false,
     "start_time": "2020-10-08T19:13:38.182772",
     "status": "completed"
    },
    "tags": []
   },
   "outputs": [],
   "source": [
    "# Check for null values if any\n",
    "\n",
    "# This method shows the count of null values, percent and dataTypes\n",
    "\n",
    "def missing_data(data):\n",
    "    total = data.isnull().sum()\n",
    "    percent = (data.isnull().sum()/data.isnull().count()*100)\n",
    "    tt = pd.concat([total, percent], axis=1, keys=['Total', 'Percent'])\n",
    "    types = []\n",
    "    \n",
    "    for col in data.columns:\n",
    "        dtype = str(data[col].dtype)\n",
    "        types.append(dtype)\n",
    "        \n",
    "    tt['Types'] = types\n",
    "    return(np.transpose(tt))"
   ]
  },
  {
   "cell_type": "code",
   "execution_count": 8,
   "metadata": {
    "execution": {
     "iopub.execute_input": "2020-10-08T19:13:38.538298Z",
     "iopub.status.busy": "2020-10-08T19:13:38.490030Z",
     "iopub.status.idle": "2020-10-08T19:13:38.672052Z",
     "shell.execute_reply": "2020-10-08T19:13:38.671105Z"
    },
    "papermill": {
     "duration": 0.28342,
     "end_time": "2020-10-08T19:13:38.672187",
     "exception": false,
     "start_time": "2020-10-08T19:13:38.388767",
     "status": "completed"
    },
    "tags": []
   },
   "outputs": [
    {
     "data": {
      "text/html": [
       "<div>\n",
       "<style scoped>\n",
       "    .dataframe tbody tr th:only-of-type {\n",
       "        vertical-align: middle;\n",
       "    }\n",
       "\n",
       "    .dataframe tbody tr th {\n",
       "        vertical-align: top;\n",
       "    }\n",
       "\n",
       "    .dataframe thead th {\n",
       "        text-align: right;\n",
       "    }\n",
       "</style>\n",
       "<table border=\"1\" class=\"dataframe\">\n",
       "  <thead>\n",
       "    <tr style=\"text-align: right;\">\n",
       "      <th></th>\n",
       "      <th>age</th>\n",
       "      <th>job</th>\n",
       "      <th>marital</th>\n",
       "      <th>education</th>\n",
       "      <th>default</th>\n",
       "      <th>housing</th>\n",
       "      <th>loan</th>\n",
       "      <th>contact</th>\n",
       "      <th>month</th>\n",
       "      <th>day_of_week</th>\n",
       "      <th>...</th>\n",
       "      <th>campaign</th>\n",
       "      <th>pdays</th>\n",
       "      <th>previous</th>\n",
       "      <th>poutcome</th>\n",
       "      <th>emp.var.rate</th>\n",
       "      <th>cons.price.idx</th>\n",
       "      <th>cons.conf.idx</th>\n",
       "      <th>euribor3m</th>\n",
       "      <th>nr.employed</th>\n",
       "      <th>y</th>\n",
       "    </tr>\n",
       "  </thead>\n",
       "  <tbody>\n",
       "    <tr>\n",
       "      <th>Total</th>\n",
       "      <td>0</td>\n",
       "      <td>0</td>\n",
       "      <td>0</td>\n",
       "      <td>0</td>\n",
       "      <td>0</td>\n",
       "      <td>0</td>\n",
       "      <td>0</td>\n",
       "      <td>0</td>\n",
       "      <td>0</td>\n",
       "      <td>0</td>\n",
       "      <td>...</td>\n",
       "      <td>0</td>\n",
       "      <td>0</td>\n",
       "      <td>0</td>\n",
       "      <td>0</td>\n",
       "      <td>0</td>\n",
       "      <td>0</td>\n",
       "      <td>0</td>\n",
       "      <td>0</td>\n",
       "      <td>0</td>\n",
       "      <td>0</td>\n",
       "    </tr>\n",
       "    <tr>\n",
       "      <th>Percent</th>\n",
       "      <td>0</td>\n",
       "      <td>0</td>\n",
       "      <td>0</td>\n",
       "      <td>0</td>\n",
       "      <td>0</td>\n",
       "      <td>0</td>\n",
       "      <td>0</td>\n",
       "      <td>0</td>\n",
       "      <td>0</td>\n",
       "      <td>0</td>\n",
       "      <td>...</td>\n",
       "      <td>0</td>\n",
       "      <td>0</td>\n",
       "      <td>0</td>\n",
       "      <td>0</td>\n",
       "      <td>0</td>\n",
       "      <td>0</td>\n",
       "      <td>0</td>\n",
       "      <td>0</td>\n",
       "      <td>0</td>\n",
       "      <td>0</td>\n",
       "    </tr>\n",
       "    <tr>\n",
       "      <th>Types</th>\n",
       "      <td>int64</td>\n",
       "      <td>object</td>\n",
       "      <td>object</td>\n",
       "      <td>object</td>\n",
       "      <td>object</td>\n",
       "      <td>object</td>\n",
       "      <td>object</td>\n",
       "      <td>object</td>\n",
       "      <td>object</td>\n",
       "      <td>object</td>\n",
       "      <td>...</td>\n",
       "      <td>int64</td>\n",
       "      <td>int64</td>\n",
       "      <td>int64</td>\n",
       "      <td>object</td>\n",
       "      <td>float64</td>\n",
       "      <td>float64</td>\n",
       "      <td>float64</td>\n",
       "      <td>float64</td>\n",
       "      <td>float64</td>\n",
       "      <td>object</td>\n",
       "    </tr>\n",
       "  </tbody>\n",
       "</table>\n",
       "<p>3 rows × 21 columns</p>\n",
       "</div>"
      ],
      "text/plain": [
       "           age     job marital education default housing    loan contact  \\\n",
       "Total        0       0       0         0       0       0       0       0   \n",
       "Percent      0       0       0         0       0       0       0       0   \n",
       "Types    int64  object  object    object  object  object  object  object   \n",
       "\n",
       "          month day_of_week  ... campaign  pdays previous poutcome  \\\n",
       "Total         0           0  ...        0      0        0        0   \n",
       "Percent       0           0  ...        0      0        0        0   \n",
       "Types    object      object  ...    int64  int64    int64   object   \n",
       "\n",
       "        emp.var.rate cons.price.idx cons.conf.idx euribor3m nr.employed  \\\n",
       "Total              0              0             0         0           0   \n",
       "Percent            0              0             0         0           0   \n",
       "Types        float64        float64       float64   float64     float64   \n",
       "\n",
       "              y  \n",
       "Total         0  \n",
       "Percent       0  \n",
       "Types    object  \n",
       "\n",
       "[3 rows x 21 columns]"
      ]
     },
     "execution_count": 8,
     "metadata": {},
     "output_type": "execute_result"
    }
   ],
   "source": [
    "missing_data(df)"
   ]
  },
  {
   "cell_type": "markdown",
   "metadata": {
    "papermill": {
     "duration": 0.095237,
     "end_time": "2020-10-08T19:13:38.863227",
     "exception": false,
     "start_time": "2020-10-08T19:13:38.767990",
     "status": "completed"
    },
    "tags": []
   },
   "source": [
    "# How many term depositors are there in the data ?"
   ]
  },
  {
   "cell_type": "code",
   "execution_count": 9,
   "metadata": {
    "execution": {
     "iopub.execute_input": "2020-10-08T19:13:39.073868Z",
     "iopub.status.busy": "2020-10-08T19:13:39.072945Z",
     "iopub.status.idle": "2020-10-08T19:13:39.077987Z",
     "shell.execute_reply": "2020-10-08T19:13:39.077235Z"
    },
    "papermill": {
     "duration": 0.119475,
     "end_time": "2020-10-08T19:13:39.078110",
     "exception": false,
     "start_time": "2020-10-08T19:13:38.958635",
     "status": "completed"
    },
    "tags": []
   },
   "outputs": [
    {
     "data": {
      "text/plain": [
       "no     36548\n",
       "yes     4640\n",
       "Name: y, dtype: int64"
      ]
     },
     "execution_count": 9,
     "metadata": {},
     "output_type": "execute_result"
    }
   ],
   "source": [
    "df['y'].value_counts()"
   ]
  },
  {
   "cell_type": "code",
   "execution_count": 10,
   "metadata": {
    "execution": {
     "iopub.execute_input": "2020-10-08T19:13:39.290389Z",
     "iopub.status.busy": "2020-10-08T19:13:39.289651Z",
     "iopub.status.idle": "2020-10-08T19:13:39.430871Z",
     "shell.execute_reply": "2020-10-08T19:13:39.430217Z"
    },
    "papermill": {
     "duration": 0.255401,
     "end_time": "2020-10-08T19:13:39.430995",
     "exception": false,
     "start_time": "2020-10-08T19:13:39.175594",
     "status": "completed"
    },
    "tags": []
   },
   "outputs": [
    {
     "data": {
      "text/plain": [
       "<matplotlib.axes._subplots.AxesSubplot at 0x7f50f1547110>"
      ]
     },
     "execution_count": 10,
     "metadata": {},
     "output_type": "execute_result"
    },
    {
     "data": {
      "image/png": "[encoded data removed]",
      "text/plain": [
       "<Figure size 504x504 with 1 Axes>"
      ]
     },
     "metadata": {},
     "output_type": "display_data"
    }
   ],
   "source": [
    "def plot_pie(dataset, target, size=(7,7)):\n",
    "    return dataset[target].value_counts().plot.pie(autopct = '%1.1f%%', figsize=size)\n",
    "\n",
    "plot_pie(df, 'y')"
   ]
  },
  {
   "cell_type": "markdown",
   "metadata": {
    "papermill": {
     "duration": 0.097205,
     "end_time": "2020-10-08T19:13:39.626079",
     "exception": false,
     "start_time": "2020-10-08T19:13:39.528874",
     "status": "completed"
    },
    "tags": []
   },
   "source": [
    "# What is the baseline likelihood of term deposits ? This tells us what is the success rate in the absence of ML model"
   ]
  },
  {
   "cell_type": "code",
   "execution_count": 11,
   "metadata": {
    "execution": {
     "iopub.execute_input": "2020-10-08T19:13:39.831947Z",
     "iopub.status.busy": "2020-10-08T19:13:39.829688Z",
     "iopub.status.idle": "2020-10-08T19:13:39.862190Z",
     "shell.execute_reply": "2020-10-08T19:13:39.861401Z"
    },
    "papermill": {
     "duration": 0.138734,
     "end_time": "2020-10-08T19:13:39.862317",
     "exception": false,
     "start_time": "2020-10-08T19:13:39.723583",
     "status": "completed"
    },
    "tags": []
   },
   "outputs": [
    {
     "data": {
      "text/html": [
       "<div>\n",
       "<style scoped>\n",
       "    .dataframe tbody tr th:only-of-type {\n",
       "        vertical-align: middle;\n",
       "    }\n",
       "\n",
       "    .dataframe tbody tr th {\n",
       "        vertical-align: top;\n",
       "    }\n",
       "\n",
       "    .dataframe thead th {\n",
       "        text-align: right;\n",
       "    }\n",
       "</style>\n",
       "<table border=\"1\" class=\"dataframe\">\n",
       "  <thead>\n",
       "    <tr style=\"text-align: right;\">\n",
       "      <th></th>\n",
       "      <th>age</th>\n",
       "      <th>job</th>\n",
       "      <th>marital</th>\n",
       "      <th>education</th>\n",
       "      <th>default</th>\n",
       "      <th>housing</th>\n",
       "      <th>loan</th>\n",
       "      <th>contact</th>\n",
       "      <th>month</th>\n",
       "      <th>day_of_week</th>\n",
       "      <th>...</th>\n",
       "      <th>pdays</th>\n",
       "      <th>previous</th>\n",
       "      <th>poutcome</th>\n",
       "      <th>emp.var.rate</th>\n",
       "      <th>cons.price.idx</th>\n",
       "      <th>cons.conf.idx</th>\n",
       "      <th>euribor3m</th>\n",
       "      <th>nr.employed</th>\n",
       "      <th>y</th>\n",
       "      <th>target</th>\n",
       "    </tr>\n",
       "  </thead>\n",
       "  <tbody>\n",
       "    <tr>\n",
       "      <th>0</th>\n",
       "      <td>56</td>\n",
       "      <td>housemaid</td>\n",
       "      <td>married</td>\n",
       "      <td>basic.4y</td>\n",
       "      <td>no</td>\n",
       "      <td>no</td>\n",
       "      <td>no</td>\n",
       "      <td>telephone</td>\n",
       "      <td>may</td>\n",
       "      <td>mon</td>\n",
       "      <td>...</td>\n",
       "      <td>999</td>\n",
       "      <td>0</td>\n",
       "      <td>nonexistent</td>\n",
       "      <td>1.1</td>\n",
       "      <td>93.994</td>\n",
       "      <td>-36.4</td>\n",
       "      <td>4.857</td>\n",
       "      <td>5191.0</td>\n",
       "      <td>no</td>\n",
       "      <td>0</td>\n",
       "    </tr>\n",
       "    <tr>\n",
       "      <th>1</th>\n",
       "      <td>57</td>\n",
       "      <td>services</td>\n",
       "      <td>married</td>\n",
       "      <td>high.school</td>\n",
       "      <td>unknown</td>\n",
       "      <td>no</td>\n",
       "      <td>no</td>\n",
       "      <td>telephone</td>\n",
       "      <td>may</td>\n",
       "      <td>mon</td>\n",
       "      <td>...</td>\n",
       "      <td>999</td>\n",
       "      <td>0</td>\n",
       "      <td>nonexistent</td>\n",
       "      <td>1.1</td>\n",
       "      <td>93.994</td>\n",
       "      <td>-36.4</td>\n",
       "      <td>4.857</td>\n",
       "      <td>5191.0</td>\n",
       "      <td>no</td>\n",
       "      <td>0</td>\n",
       "    </tr>\n",
       "    <tr>\n",
       "      <th>2</th>\n",
       "      <td>37</td>\n",
       "      <td>services</td>\n",
       "      <td>married</td>\n",
       "      <td>high.school</td>\n",
       "      <td>no</td>\n",
       "      <td>yes</td>\n",
       "      <td>no</td>\n",
       "      <td>telephone</td>\n",
       "      <td>may</td>\n",
       "      <td>mon</td>\n",
       "      <td>...</td>\n",
       "      <td>999</td>\n",
       "      <td>0</td>\n",
       "      <td>nonexistent</td>\n",
       "      <td>1.1</td>\n",
       "      <td>93.994</td>\n",
       "      <td>-36.4</td>\n",
       "      <td>4.857</td>\n",
       "      <td>5191.0</td>\n",
       "      <td>no</td>\n",
       "      <td>0</td>\n",
       "    </tr>\n",
       "    <tr>\n",
       "      <th>3</th>\n",
       "      <td>40</td>\n",
       "      <td>admin.</td>\n",
       "      <td>married</td>\n",
       "      <td>basic.6y</td>\n",
       "      <td>no</td>\n",
       "      <td>no</td>\n",
       "      <td>no</td>\n",
       "      <td>telephone</td>\n",
       "      <td>may</td>\n",
       "      <td>mon</td>\n",
       "      <td>...</td>\n",
       "      <td>999</td>\n",
       "      <td>0</td>\n",
       "      <td>nonexistent</td>\n",
       "      <td>1.1</td>\n",
       "      <td>93.994</td>\n",
       "      <td>-36.4</td>\n",
       "      <td>4.857</td>\n",
       "      <td>5191.0</td>\n",
       "      <td>no</td>\n",
       "      <td>0</td>\n",
       "    </tr>\n",
       "    <tr>\n",
       "      <th>4</th>\n",
       "      <td>56</td>\n",
       "      <td>services</td>\n",
       "      <td>married</td>\n",
       "      <td>high.school</td>\n",
       "      <td>no</td>\n",
       "      <td>no</td>\n",
       "      <td>yes</td>\n",
       "      <td>telephone</td>\n",
       "      <td>may</td>\n",
       "      <td>mon</td>\n",
       "      <td>...</td>\n",
       "      <td>999</td>\n",
       "      <td>0</td>\n",
       "      <td>nonexistent</td>\n",
       "      <td>1.1</td>\n",
       "      <td>93.994</td>\n",
       "      <td>-36.4</td>\n",
       "      <td>4.857</td>\n",
       "      <td>5191.0</td>\n",
       "      <td>no</td>\n",
       "      <td>0</td>\n",
       "    </tr>\n",
       "  </tbody>\n",
       "</table>\n",
       "<p>5 rows × 22 columns</p>\n",
       "</div>"
      ],
      "text/plain": [
       "   age        job  marital    education  default housing loan    contact  \\\n",
       "0   56  housemaid  married     basic.4y       no      no   no  telephone   \n",
       "1   57   services  married  high.school  unknown      no   no  telephone   \n",
       "2   37   services  married  high.school       no     yes   no  telephone   \n",
       "3   40     admin.  married     basic.6y       no      no   no  telephone   \n",
       "4   56   services  married  high.school       no      no  yes  telephone   \n",
       "\n",
       "  month day_of_week  ...  pdays  previous     poutcome  emp.var.rate  \\\n",
       "0   may         mon  ...    999         0  nonexistent           1.1   \n",
       "1   may         mon  ...    999         0  nonexistent           1.1   \n",
       "2   may         mon  ...    999         0  nonexistent           1.1   \n",
       "3   may         mon  ...    999         0  nonexistent           1.1   \n",
       "4   may         mon  ...    999         0  nonexistent           1.1   \n",
       "\n",
       "  cons.price.idx  cons.conf.idx  euribor3m  nr.employed   y  target  \n",
       "0         93.994          -36.4      4.857       5191.0  no       0  \n",
       "1         93.994          -36.4      4.857       5191.0  no       0  \n",
       "2         93.994          -36.4      4.857       5191.0  no       0  \n",
       "3         93.994          -36.4      4.857       5191.0  no       0  \n",
       "4         93.994          -36.4      4.857       5191.0  no       0  \n",
       "\n",
       "[5 rows x 22 columns]"
      ]
     },
     "execution_count": 11,
     "metadata": {},
     "output_type": "execute_result"
    }
   ],
   "source": [
    "# create a new variable `target` that takes 1 for `yes` else 0\n",
    "df['target'] = np.where(df['y'].isin(['yes']), 1, 0)\n",
    "\n",
    "df.head()"
   ]
  },
  {
   "cell_type": "code",
   "execution_count": 12,
   "metadata": {
    "execution": {
     "iopub.execute_input": "2020-10-08T19:13:40.067566Z",
     "iopub.status.busy": "2020-10-08T19:13:40.066793Z",
     "iopub.status.idle": "2020-10-08T19:13:40.072794Z",
     "shell.execute_reply": "2020-10-08T19:13:40.072047Z"
    },
    "papermill": {
     "duration": 0.110973,
     "end_time": "2020-10-08T19:13:40.072929",
     "exception": false,
     "start_time": "2020-10-08T19:13:39.961956",
     "status": "completed"
    },
    "tags": []
   },
   "outputs": [
    {
     "data": {
      "text/plain": [
       "0.11265417111780131"
      ]
     },
     "execution_count": 12,
     "metadata": {},
     "output_type": "execute_result"
    }
   ],
   "source": [
    "df['target'].mean()"
   ]
  },
  {
   "cell_type": "markdown",
   "metadata": {
    "papermill": {
     "duration": 0.148889,
     "end_time": "2020-10-08T19:13:40.322889",
     "exception": false,
     "start_time": "2020-10-08T19:13:40.174000",
     "status": "completed"
    },
    "tags": []
   },
   "source": [
    "### In a no model scenario, out of 100 calls, _11 are taking the term loan_"
   ]
  },
  {
   "cell_type": "code",
   "execution_count": 13,
   "metadata": {
    "execution": {
     "iopub.execute_input": "2020-10-08T19:13:40.527788Z",
     "iopub.status.busy": "2020-10-08T19:13:40.526645Z",
     "iopub.status.idle": "2020-10-08T19:13:40.658132Z",
     "shell.execute_reply": "2020-10-08T19:13:40.657312Z"
    },
    "papermill": {
     "duration": 0.235832,
     "end_time": "2020-10-08T19:13:40.658274",
     "exception": false,
     "start_time": "2020-10-08T19:13:40.422442",
     "status": "completed"
    },
    "tags": []
   },
   "outputs": [
    {
     "data": {
      "text/plain": [
       "<matplotlib.axes._subplots.AxesSubplot at 0x7f50f14f2410>"
      ]
     },
     "execution_count": 13,
     "metadata": {},
     "output_type": "execute_result"
    },
    {
     "data": {
      "image/png": "[encoded data removed]",
      "text/plain": [
       "<Figure size 432x288 with 1 Axes>"
      ]
     },
     "metadata": {},
     "output_type": "display_data"
    }
   ],
   "source": [
    "sns.countplot(df['target'])"
   ]
  },
  {
   "cell_type": "markdown",
   "metadata": {
    "papermill": {
     "duration": 0.100982,
     "end_time": "2020-10-08T19:13:40.861308",
     "exception": false,
     "start_time": "2020-10-08T19:13:40.760326",
     "status": "completed"
    },
    "tags": []
   },
   "source": [
    "# Inspecting Categorical variables"
   ]
  },
  {
   "cell_type": "markdown",
   "metadata": {
    "papermill": {
     "duration": 0.10173,
     "end_time": "2020-10-08T19:13:41.064459",
     "exception": false,
     "start_time": "2020-10-08T19:13:40.962729",
     "status": "completed"
    },
    "tags": []
   },
   "source": [
    "# 1. education"
   ]
  },
  {
   "cell_type": "code",
   "execution_count": 14,
   "metadata": {
    "execution": {
     "iopub.execute_input": "2020-10-08T19:13:41.287321Z",
     "iopub.status.busy": "2020-10-08T19:13:41.286419Z",
     "iopub.status.idle": "2020-10-08T19:13:41.290960Z",
     "shell.execute_reply": "2020-10-08T19:13:41.290262Z"
    },
    "papermill": {
     "duration": 0.124805,
     "end_time": "2020-10-08T19:13:41.291105",
     "exception": false,
     "start_time": "2020-10-08T19:13:41.166300",
     "status": "completed"
    },
    "tags": []
   },
   "outputs": [
    {
     "data": {
      "text/plain": [
       "university.degree      12168\n",
       "high.school             9515\n",
       "basic.9y                6045\n",
       "professional.course     5243\n",
       "basic.4y                4176\n",
       "basic.6y                2292\n",
       "unknown                 1731\n",
       "illiterate                18\n",
       "Name: education, dtype: int64"
      ]
     },
     "execution_count": 14,
     "metadata": {},
     "output_type": "execute_result"
    }
   ],
   "source": [
    "df['education'].value_counts()"
   ]
  },
  {
   "cell_type": "code",
   "execution_count": 15,
   "metadata": {
    "execution": {
     "iopub.execute_input": "2020-10-08T19:13:41.509998Z",
     "iopub.status.busy": "2020-10-08T19:13:41.507754Z",
     "iopub.status.idle": "2020-10-08T19:13:42.273105Z",
     "shell.execute_reply": "2020-10-08T19:13:42.272360Z"
    },
    "papermill": {
     "duration": 0.878001,
     "end_time": "2020-10-08T19:13:42.273225",
     "exception": false,
     "start_time": "2020-10-08T19:13:41.395224",
     "status": "completed"
    },
    "tags": []
   },
   "outputs": [
    {
     "name": "stdout",
     "output_type": "stream",
     "text": [
      "education\n",
      "basic.4y               0.102490\n",
      "basic.6y               0.082024\n",
      "basic.9y               0.078246\n",
      "high.school            0.108355\n",
      "illiterate             0.222222\n",
      "professional.course    0.113485\n",
      "university.degree      0.137245\n",
      "unknown                0.145003\n",
      "Name: target, dtype: float64\n"
     ]
    },
    {
     "data": {
      "image/png": "[encoded data removed]",
      "text/plain": [
       "<Figure size 1152x288 with 1 Axes>"
      ]
     },
     "metadata": {},
     "output_type": "display_data"
    }
   ],
   "source": [
    "# We will plot the relationship of `education` with `target`\n",
    "# estimator is mean to show the likelihood of taking up the loan\n",
    "def barplot_mean(x, y, df, hue=None):\n",
    "    print(df.groupby(x)[y].mean())\n",
    "    uniqs = df[x].nunique()\n",
    "    \n",
    "    if uniqs > 4:\n",
    "        plt.figure(figsize=(16,4))\n",
    "        \n",
    "    sns.barplot(x=x, y=y, data=df, estimator=np.mean, hue=hue)\n",
    "    plt.show()\n",
    "\n",
    "barplot_mean('education', 'target', df)"
   ]
  },
  {
   "cell_type": "markdown",
   "metadata": {
    "papermill": {
     "duration": 0.105373,
     "end_time": "2020-10-08T19:13:42.483727",
     "exception": false,
     "start_time": "2020-10-08T19:13:42.378354",
     "status": "completed"
    },
    "tags": []
   },
   "source": [
    "### `university.degree` and `professional.course` are a little better than the avg. success rate of the data\n",
    "\n",
    "### `illiterate` and `unknown` is showing high chances of taking a loan (comparing to 0.112..), but we do not want to target such audience in the practical scenario. Always analyze graphs with practical perspective !"
   ]
  },
  {
   "cell_type": "code",
   "execution_count": 16,
   "metadata": {
    "execution": {
     "iopub.execute_input": "2020-10-08T19:13:42.702133Z",
     "iopub.status.busy": "2020-10-08T19:13:42.701029Z",
     "iopub.status.idle": "2020-10-08T19:13:42.735372Z",
     "shell.execute_reply": "2020-10-08T19:13:42.734684Z"
    },
    "papermill": {
     "duration": 0.148752,
     "end_time": "2020-10-08T19:13:42.735503",
     "exception": false,
     "start_time": "2020-10-08T19:13:42.586751",
     "status": "completed"
    },
    "tags": []
   },
   "outputs": [
    {
     "data": {
      "text/html": [
       "<div>\n",
       "<style scoped>\n",
       "    .dataframe tbody tr th:only-of-type {\n",
       "        vertical-align: middle;\n",
       "    }\n",
       "\n",
       "    .dataframe tbody tr th {\n",
       "        vertical-align: top;\n",
       "    }\n",
       "\n",
       "    .dataframe thead th {\n",
       "        text-align: right;\n",
       "    }\n",
       "</style>\n",
       "<table border=\"1\" class=\"dataframe\">\n",
       "  <thead>\n",
       "    <tr style=\"text-align: right;\">\n",
       "      <th></th>\n",
       "      <th>age</th>\n",
       "      <th>job</th>\n",
       "      <th>marital</th>\n",
       "      <th>education</th>\n",
       "      <th>default</th>\n",
       "      <th>housing</th>\n",
       "      <th>loan</th>\n",
       "      <th>contact</th>\n",
       "      <th>month</th>\n",
       "      <th>day_of_week</th>\n",
       "      <th>...</th>\n",
       "      <th>pdays</th>\n",
       "      <th>previous</th>\n",
       "      <th>poutcome</th>\n",
       "      <th>emp.var.rate</th>\n",
       "      <th>cons.price.idx</th>\n",
       "      <th>cons.conf.idx</th>\n",
       "      <th>euribor3m</th>\n",
       "      <th>nr.employed</th>\n",
       "      <th>y</th>\n",
       "      <th>target</th>\n",
       "    </tr>\n",
       "  </thead>\n",
       "  <tbody>\n",
       "    <tr>\n",
       "      <th>0</th>\n",
       "      <td>56</td>\n",
       "      <td>housemaid</td>\n",
       "      <td>married</td>\n",
       "      <td>Basic</td>\n",
       "      <td>no</td>\n",
       "      <td>no</td>\n",
       "      <td>no</td>\n",
       "      <td>telephone</td>\n",
       "      <td>may</td>\n",
       "      <td>mon</td>\n",
       "      <td>...</td>\n",
       "      <td>999</td>\n",
       "      <td>0</td>\n",
       "      <td>nonexistent</td>\n",
       "      <td>1.1</td>\n",
       "      <td>93.994</td>\n",
       "      <td>-36.4</td>\n",
       "      <td>4.857</td>\n",
       "      <td>5191.0</td>\n",
       "      <td>no</td>\n",
       "      <td>0</td>\n",
       "    </tr>\n",
       "    <tr>\n",
       "      <th>1</th>\n",
       "      <td>57</td>\n",
       "      <td>services</td>\n",
       "      <td>married</td>\n",
       "      <td>high.school</td>\n",
       "      <td>unknown</td>\n",
       "      <td>no</td>\n",
       "      <td>no</td>\n",
       "      <td>telephone</td>\n",
       "      <td>may</td>\n",
       "      <td>mon</td>\n",
       "      <td>...</td>\n",
       "      <td>999</td>\n",
       "      <td>0</td>\n",
       "      <td>nonexistent</td>\n",
       "      <td>1.1</td>\n",
       "      <td>93.994</td>\n",
       "      <td>-36.4</td>\n",
       "      <td>4.857</td>\n",
       "      <td>5191.0</td>\n",
       "      <td>no</td>\n",
       "      <td>0</td>\n",
       "    </tr>\n",
       "    <tr>\n",
       "      <th>2</th>\n",
       "      <td>37</td>\n",
       "      <td>services</td>\n",
       "      <td>married</td>\n",
       "      <td>high.school</td>\n",
       "      <td>no</td>\n",
       "      <td>yes</td>\n",
       "      <td>no</td>\n",
       "      <td>telephone</td>\n",
       "      <td>may</td>\n",
       "      <td>mon</td>\n",
       "      <td>...</td>\n",
       "      <td>999</td>\n",
       "      <td>0</td>\n",
       "      <td>nonexistent</td>\n",
       "      <td>1.1</td>\n",
       "      <td>93.994</td>\n",
       "      <td>-36.4</td>\n",
       "      <td>4.857</td>\n",
       "      <td>5191.0</td>\n",
       "      <td>no</td>\n",
       "      <td>0</td>\n",
       "    </tr>\n",
       "    <tr>\n",
       "      <th>3</th>\n",
       "      <td>40</td>\n",
       "      <td>admin.</td>\n",
       "      <td>married</td>\n",
       "      <td>Basic</td>\n",
       "      <td>no</td>\n",
       "      <td>no</td>\n",
       "      <td>no</td>\n",
       "      <td>telephone</td>\n",
       "      <td>may</td>\n",
       "      <td>mon</td>\n",
       "      <td>...</td>\n",
       "      <td>999</td>\n",
       "      <td>0</td>\n",
       "      <td>nonexistent</td>\n",
       "      <td>1.1</td>\n",
       "      <td>93.994</td>\n",
       "      <td>-36.4</td>\n",
       "      <td>4.857</td>\n",
       "      <td>5191.0</td>\n",
       "      <td>no</td>\n",
       "      <td>0</td>\n",
       "    </tr>\n",
       "    <tr>\n",
       "      <th>4</th>\n",
       "      <td>56</td>\n",
       "      <td>services</td>\n",
       "      <td>married</td>\n",
       "      <td>high.school</td>\n",
       "      <td>no</td>\n",
       "      <td>no</td>\n",
       "      <td>yes</td>\n",
       "      <td>telephone</td>\n",
       "      <td>may</td>\n",
       "      <td>mon</td>\n",
       "      <td>...</td>\n",
       "      <td>999</td>\n",
       "      <td>0</td>\n",
       "      <td>nonexistent</td>\n",
       "      <td>1.1</td>\n",
       "      <td>93.994</td>\n",
       "      <td>-36.4</td>\n",
       "      <td>4.857</td>\n",
       "      <td>5191.0</td>\n",
       "      <td>no</td>\n",
       "      <td>0</td>\n",
       "    </tr>\n",
       "  </tbody>\n",
       "</table>\n",
       "<p>5 rows × 22 columns</p>\n",
       "</div>"
      ],
      "text/plain": [
       "   age        job  marital    education  default housing loan    contact  \\\n",
       "0   56  housemaid  married        Basic       no      no   no  telephone   \n",
       "1   57   services  married  high.school  unknown      no   no  telephone   \n",
       "2   37   services  married  high.school       no     yes   no  telephone   \n",
       "3   40     admin.  married        Basic       no      no   no  telephone   \n",
       "4   56   services  married  high.school       no      no  yes  telephone   \n",
       "\n",
       "  month day_of_week  ...  pdays  previous     poutcome  emp.var.rate  \\\n",
       "0   may         mon  ...    999         0  nonexistent           1.1   \n",
       "1   may         mon  ...    999         0  nonexistent           1.1   \n",
       "2   may         mon  ...    999         0  nonexistent           1.1   \n",
       "3   may         mon  ...    999         0  nonexistent           1.1   \n",
       "4   may         mon  ...    999         0  nonexistent           1.1   \n",
       "\n",
       "  cons.price.idx  cons.conf.idx  euribor3m  nr.employed   y  target  \n",
       "0         93.994          -36.4      4.857       5191.0  no       0  \n",
       "1         93.994          -36.4      4.857       5191.0  no       0  \n",
       "2         93.994          -36.4      4.857       5191.0  no       0  \n",
       "3         93.994          -36.4      4.857       5191.0  no       0  \n",
       "4         93.994          -36.4      4.857       5191.0  no       0  \n",
       "\n",
       "[5 rows x 22 columns]"
      ]
     },
     "execution_count": 16,
     "metadata": {},
     "output_type": "execute_result"
    }
   ],
   "source": [
    "# We will group the basic education groups into one\n",
    "basic_grps = ['basic.4y', 'basic.6y', 'basic.9y']\n",
    "\n",
    "df['education'] = np.where(df['education'].isin(basic_grps), 'Basic', df['education'])\n",
    "df.head()"
   ]
  },
  {
   "cell_type": "code",
   "execution_count": 17,
   "metadata": {
    "execution": {
     "iopub.execute_input": "2020-10-08T19:13:42.954164Z",
     "iopub.status.busy": "2020-10-08T19:13:42.950482Z",
     "iopub.status.idle": "2020-10-08T19:13:43.630282Z",
     "shell.execute_reply": "2020-10-08T19:13:43.629485Z"
    },
    "papermill": {
     "duration": 0.790436,
     "end_time": "2020-10-08T19:13:43.630412",
     "exception": false,
     "start_time": "2020-10-08T19:13:42.839976",
     "status": "completed"
    },
    "tags": []
   },
   "outputs": [
    {
     "name": "stdout",
     "output_type": "stream",
     "text": [
      "education\n",
      "Basic                  0.087029\n",
      "high.school            0.108355\n",
      "illiterate             0.222222\n",
      "professional.course    0.113485\n",
      "university.degree      0.137245\n",
      "unknown                0.145003\n",
      "Name: target, dtype: float64\n"
     ]
    },
    {
     "data": {
      "image/png": "[encoded data removed]",
      "text/plain": [
       "<Figure size 1152x288 with 1 Axes>"
      ]
     },
     "metadata": {},
     "output_type": "display_data"
    }
   ],
   "source": [
    "barplot_mean('education', 'target', df)"
   ]
  },
  {
   "cell_type": "markdown",
   "metadata": {
    "papermill": {
     "duration": 0.106833,
     "end_time": "2020-10-08T19:13:43.845111",
     "exception": false,
     "start_time": "2020-10-08T19:13:43.738278",
     "status": "completed"
    },
    "tags": []
   },
   "source": [
    "### we will also go ahead and merge `unknown` and `illiterate` into one"
   ]
  },
  {
   "cell_type": "code",
   "execution_count": 18,
   "metadata": {
    "execution": {
     "iopub.execute_input": "2020-10-08T19:13:44.068413Z",
     "iopub.status.busy": "2020-10-08T19:13:44.067622Z",
     "iopub.status.idle": "2020-10-08T19:13:44.715210Z",
     "shell.execute_reply": "2020-10-08T19:13:44.714591Z"
    },
    "papermill": {
     "duration": 0.76366,
     "end_time": "2020-10-08T19:13:44.715353",
     "exception": false,
     "start_time": "2020-10-08T19:13:43.951693",
     "status": "completed"
    },
    "tags": []
   },
   "outputs": [
    {
     "name": "stdout",
     "output_type": "stream",
     "text": [
      "education\n",
      "Basic                  0.087029\n",
      "high.school            0.108355\n",
      "professional.course    0.113485\n",
      "university.degree      0.137245\n",
      "unknown                0.145798\n",
      "Name: target, dtype: float64\n"
     ]
    },
    {
     "data": {
      "image/png": "[encoded data removed]",
      "text/plain": [
       "<Figure size 1152x288 with 1 Axes>"
      ]
     },
     "metadata": {},
     "output_type": "display_data"
    }
   ],
   "source": [
    "df['education'] = np.where(df['education'].isin(['illiterate']), 'unknown', df['education'])\n",
    "barplot_mean('education', 'target', df)"
   ]
  },
  {
   "cell_type": "markdown",
   "metadata": {
    "papermill": {
     "duration": 0.10813,
     "end_time": "2020-10-08T19:13:44.933493",
     "exception": false,
     "start_time": "2020-10-08T19:13:44.825363",
     "status": "completed"
    },
    "tags": []
   },
   "source": [
    "### There is no monotonic trend visible that accounts for the discrmination of the target variable. We will be doing similar analysis for other variables as well"
   ]
  },
  {
   "cell_type": "markdown",
   "metadata": {
    "papermill": {
     "duration": 0.108688,
     "end_time": "2020-10-08T19:13:45.152168",
     "exception": false,
     "start_time": "2020-10-08T19:13:45.043480",
     "status": "completed"
    },
    "tags": []
   },
   "source": [
    "# 2. day_of_week"
   ]
  },
  {
   "cell_type": "code",
   "execution_count": 19,
   "metadata": {
    "execution": {
     "iopub.execute_input": "2020-10-08T19:13:45.375491Z",
     "iopub.status.busy": "2020-10-08T19:13:45.374728Z",
     "iopub.status.idle": "2020-10-08T19:13:45.998204Z",
     "shell.execute_reply": "2020-10-08T19:13:45.997512Z"
    },
    "papermill": {
     "duration": 0.737417,
     "end_time": "2020-10-08T19:13:45.998355",
     "exception": false,
     "start_time": "2020-10-08T19:13:45.260938",
     "status": "completed"
    },
    "tags": []
   },
   "outputs": [
    {
     "name": "stdout",
     "output_type": "stream",
     "text": [
      "day_of_week\n",
      "fri    0.108087\n",
      "mon    0.099483\n",
      "thu    0.121188\n",
      "tue    0.117800\n",
      "wed    0.116671\n",
      "Name: target, dtype: float64\n"
     ]
    },
    {
     "data": {
      "image/png": "[encoded data removed]",
      "text/plain": [
       "<Figure size 1152x288 with 1 Axes>"
      ]
     },
     "metadata": {},
     "output_type": "display_data"
    }
   ],
   "source": [
    "barplot_mean('day_of_week', 'target', df)"
   ]
  },
  {
   "cell_type": "markdown",
   "metadata": {
    "papermill": {
     "duration": 0.110674,
     "end_time": "2020-10-08T19:13:46.225335",
     "exception": false,
     "start_time": "2020-10-08T19:13:46.114661",
     "status": "completed"
    },
    "tags": []
   },
   "source": [
    "### We see there is no significant difference in the trend for different days of the week so we can conclude that this is a weak predictor of the dependent target"
   ]
  },
  {
   "cell_type": "markdown",
   "metadata": {
    "papermill": {
     "duration": 0.110811,
     "end_time": "2020-10-08T19:13:46.445933",
     "exception": false,
     "start_time": "2020-10-08T19:13:46.335122",
     "status": "completed"
    },
    "tags": []
   },
   "source": [
    "# 3. job"
   ]
  },
  {
   "cell_type": "code",
   "execution_count": 20,
   "metadata": {
    "execution": {
     "iopub.execute_input": "2020-10-08T19:13:46.671899Z",
     "iopub.status.busy": "2020-10-08T19:13:46.671064Z",
     "iopub.status.idle": "2020-10-08T19:13:47.664430Z",
     "shell.execute_reply": "2020-10-08T19:13:47.663571Z"
    },
    "papermill": {
     "duration": 1.109128,
     "end_time": "2020-10-08T19:13:47.664582",
     "exception": false,
     "start_time": "2020-10-08T19:13:46.555454",
     "status": "completed"
    },
    "tags": []
   },
   "outputs": [
    {
     "name": "stdout",
     "output_type": "stream",
     "text": [
      "job\n",
      "admin.           0.129726\n",
      "blue-collar      0.068943\n",
      "entrepreneur     0.085165\n",
      "housemaid        0.100000\n",
      "management       0.112175\n",
      "retired          0.252326\n",
      "self-employed    0.104856\n",
      "services         0.081381\n",
      "student          0.314286\n",
      "technician       0.108260\n",
      "unemployed       0.142012\n",
      "unknown          0.112121\n",
      "Name: target, dtype: float64\n"
     ]
    },
    {
     "data": {
      "image/png": "[encoded data removed]",
      "text/plain": [
       "<Figure size 1152x288 with 1 Axes>"
      ]
     },
     "metadata": {},
     "output_type": "display_data"
    }
   ],
   "source": [
    "barplot_mean('job', 'target', df)"
   ]
  },
  {
   "cell_type": "markdown",
   "metadata": {
    "papermill": {
     "duration": 0.112001,
     "end_time": "2020-10-08T19:13:47.890392",
     "exception": false,
     "start_time": "2020-10-08T19:13:47.778391",
     "status": "completed"
    },
    "tags": []
   },
   "source": [
    "### It appears as if `student` and `retired` people have very high chances of taking a term loan. We can also go ahead and group `unknown` and `unemployed` into one bucket"
   ]
  },
  {
   "cell_type": "code",
   "execution_count": 21,
   "metadata": {
    "execution": {
     "iopub.execute_input": "2020-10-08T19:13:48.128182Z",
     "iopub.status.busy": "2020-10-08T19:13:48.127354Z",
     "iopub.status.idle": "2020-10-08T19:13:49.027275Z",
     "shell.execute_reply": "2020-10-08T19:13:49.027959Z"
    },
    "papermill": {
     "duration": 1.025438,
     "end_time": "2020-10-08T19:13:49.028155",
     "exception": false,
     "start_time": "2020-10-08T19:13:48.002717",
     "status": "completed"
    },
    "tags": []
   },
   "outputs": [
    {
     "name": "stdout",
     "output_type": "stream",
     "text": [
      "job\n",
      "admin.           0.129726\n",
      "blue-collar      0.068943\n",
      "entrepreneur     0.085165\n",
      "housemaid        0.100000\n",
      "management       0.112175\n",
      "retired          0.252326\n",
      "self-employed    0.104856\n",
      "services         0.081381\n",
      "student          0.314286\n",
      "technician       0.108260\n",
      "unemployed       0.134673\n",
      "Name: target, dtype: float64\n"
     ]
    },
    {
     "data": {
      "image/png": "[encoded data removed]",
      "text/plain": [
       "<Figure size 1152x288 with 1 Axes>"
      ]
     },
     "metadata": {},
     "output_type": "display_data"
    }
   ],
   "source": [
    "df['job'] = np.where(df['job'].isin(['unknown']), 'unemployed', df['job'])\n",
    "barplot_mean('job', 'target', df)"
   ]
  },
  {
   "cell_type": "markdown",
   "metadata": {
    "papermill": {
     "duration": 0.114,
     "end_time": "2020-10-08T19:13:49.255815",
     "exception": false,
     "start_time": "2020-10-08T19:13:49.141815",
     "status": "completed"
    },
    "tags": []
   },
   "source": [
    "# 4.marital_status "
   ]
  },
  {
   "cell_type": "code",
   "execution_count": 22,
   "metadata": {
    "execution": {
     "iopub.execute_input": "2020-10-08T19:13:49.493151Z",
     "iopub.status.busy": "2020-10-08T19:13:49.490611Z",
     "iopub.status.idle": "2020-10-08T19:13:50.067448Z",
     "shell.execute_reply": "2020-10-08T19:13:50.068162Z"
    },
    "papermill": {
     "duration": 0.698478,
     "end_time": "2020-10-08T19:13:50.068328",
     "exception": false,
     "start_time": "2020-10-08T19:13:49.369850",
     "status": "completed"
    },
    "tags": []
   },
   "outputs": [
    {
     "name": "stdout",
     "output_type": "stream",
     "text": [
      "marital\n",
      "divorced    0.103209\n",
      "married     0.101573\n",
      "single      0.140041\n",
      "unknown     0.150000\n",
      "Name: target, dtype: float64\n"
     ]
    },
    {
     "data": {
      "image/png": "[encoded data removed]",
      "text/plain": [
       "<Figure size 432x288 with 1 Axes>"
      ]
     },
     "metadata": {},
     "output_type": "display_data"
    }
   ],
   "source": [
    "barplot_mean('marital', 'target', df)"
   ]
  },
  {
   "cell_type": "markdown",
   "metadata": {
    "papermill": {
     "duration": 0.115734,
     "end_time": "2020-10-08T19:13:50.299930",
     "exception": false,
     "start_time": "2020-10-08T19:13:50.184196",
     "status": "completed"
    },
    "tags": []
   },
   "source": [
    "### We see there is no significant difference in the trend for different marital status so we can conclude that this is a weak predictor of the dependent target"
   ]
  },
  {
   "cell_type": "markdown",
   "metadata": {
    "papermill": {
     "duration": 0.117889,
     "end_time": "2020-10-08T19:13:50.533623",
     "exception": false,
     "start_time": "2020-10-08T19:13:50.415734",
     "status": "completed"
    },
    "tags": []
   },
   "source": [
    "# 5. default"
   ]
  },
  {
   "cell_type": "code",
   "execution_count": 23,
   "metadata": {
    "execution": {
     "iopub.execute_input": "2020-10-08T19:13:50.776355Z",
     "iopub.status.busy": "2020-10-08T19:13:50.775570Z",
     "iopub.status.idle": "2020-10-08T19:13:51.326751Z",
     "shell.execute_reply": "2020-10-08T19:13:51.326007Z"
    },
    "papermill": {
     "duration": 0.676423,
     "end_time": "2020-10-08T19:13:51.326872",
     "exception": false,
     "start_time": "2020-10-08T19:13:50.650449",
     "status": "completed"
    },
    "tags": []
   },
   "outputs": [
    {
     "name": "stdout",
     "output_type": "stream",
     "text": [
      "default\n",
      "no         0.12879\n",
      "unknown    0.05153\n",
      "yes        0.00000\n",
      "Name: target, dtype: float64\n"
     ]
    },
    {
     "data": {
      "image/png": "[encoded data removed]",
      "text/plain": [
       "<Figure size 432x288 with 1 Axes>"
      ]
     },
     "metadata": {},
     "output_type": "display_data"
    }
   ],
   "source": [
    "barplot_mean('default', 'target', df)"
   ]
  },
  {
   "cell_type": "markdown",
   "metadata": {
    "papermill": {
     "duration": 0.116856,
     "end_time": "2020-10-08T19:13:51.561813",
     "exception": false,
     "start_time": "2020-10-08T19:13:51.444957",
     "status": "completed"
    },
    "tags": []
   },
   "source": [
    "### We see a trend in case of `default`. A person having `default` is having the mean as `0`. We will inspect this by doing the sum"
   ]
  },
  {
   "cell_type": "code",
   "execution_count": 24,
   "metadata": {
    "execution": {
     "iopub.execute_input": "2020-10-08T19:13:51.807281Z",
     "iopub.status.busy": "2020-10-08T19:13:51.804517Z",
     "iopub.status.idle": "2020-10-08T19:13:51.822266Z",
     "shell.execute_reply": "2020-10-08T19:13:51.821463Z"
    },
    "papermill": {
     "duration": 0.143199,
     "end_time": "2020-10-08T19:13:51.822399",
     "exception": false,
     "start_time": "2020-10-08T19:13:51.679200",
     "status": "completed"
    },
    "tags": []
   },
   "outputs": [
    {
     "name": "stdout",
     "output_type": "stream",
     "text": [
      "default\n",
      "no         4197\n",
      "unknown     443\n",
      "yes           0\n",
      "Name: target, dtype: int64\n",
      "******************************\n",
      "default\n",
      "no         32588\n",
      "unknown     8597\n",
      "yes            3\n",
      "Name: target, dtype: int64\n"
     ]
    }
   ],
   "source": [
    "print(df.groupby('default')['target'].sum())\n",
    "print(\"*\"*30)\n",
    "# if we look at the count - we do have 3 cases of people who have `defaulted`\n",
    "print(df.groupby('default')['target'].count())\n",
    "\n",
    "# But we do have cases of `unknown`. \n",
    "# We can go ahead and group them in `yes` \n",
    "# because we are not sure which category they belong to"
   ]
  },
  {
   "cell_type": "code",
   "execution_count": 25,
   "metadata": {
    "execution": {
     "iopub.execute_input": "2020-10-08T19:13:52.070334Z",
     "iopub.status.busy": "2020-10-08T19:13:52.067927Z",
     "iopub.status.idle": "2020-10-08T19:13:52.682422Z",
     "shell.execute_reply": "2020-10-08T19:13:52.681838Z"
    },
    "papermill": {
     "duration": 0.743176,
     "end_time": "2020-10-08T19:13:52.682575",
     "exception": false,
     "start_time": "2020-10-08T19:13:51.939399",
     "status": "completed"
    },
    "tags": []
   },
   "outputs": [
    {
     "name": "stdout",
     "output_type": "stream",
     "text": [
      "default\n",
      "no     0.128790\n",
      "yes    0.051512\n",
      "Name: target, dtype: float64\n"
     ]
    },
    {
     "data": {
      "image/png": "[encoded data removed]",
      "text/plain": [
       "<Figure size 432x288 with 1 Axes>"
      ]
     },
     "metadata": {},
     "output_type": "display_data"
    }
   ],
   "source": [
    "df['default'] = np.where(df['default'].isin(['unknown']), 'yes', df['default'])\n",
    "barplot_mean('default', 'target', df)"
   ]
  },
  {
   "cell_type": "markdown",
   "metadata": {
    "papermill": {
     "duration": 0.119018,
     "end_time": "2020-10-08T19:13:52.920332",
     "exception": false,
     "start_time": "2020-10-08T19:13:52.801314",
     "status": "completed"
    },
    "tags": []
   },
   "source": [
    "### This is a very good variable to design the audience which can be utilised later since it is able to discriminate the dependent target variable. \n",
    "\n",
    "### Note: As a predictor, this is also weak because the likelihood of a person with `no default` buying a term loan is only `12.87 %` "
   ]
  },
  {
   "cell_type": "markdown",
   "metadata": {
    "papermill": {
     "duration": 0.118779,
     "end_time": "2020-10-08T19:13:53.159050",
     "exception": false,
     "start_time": "2020-10-08T19:13:53.040271",
     "status": "completed"
    },
    "tags": []
   },
   "source": [
    "# 6. housing"
   ]
  },
  {
   "cell_type": "code",
   "execution_count": 26,
   "metadata": {
    "execution": {
     "iopub.execute_input": "2020-10-08T19:13:53.406476Z",
     "iopub.status.busy": "2020-10-08T19:13:53.404093Z",
     "iopub.status.idle": "2020-10-08T19:13:53.940093Z",
     "shell.execute_reply": "2020-10-08T19:13:53.939475Z"
    },
    "papermill": {
     "duration": 0.662085,
     "end_time": "2020-10-08T19:13:53.940223",
     "exception": false,
     "start_time": "2020-10-08T19:13:53.278138",
     "status": "completed"
    },
    "tags": []
   },
   "outputs": [
    {
     "name": "stdout",
     "output_type": "stream",
     "text": [
      "housing\n",
      "no         0.108796\n",
      "unknown    0.108081\n",
      "yes        0.116194\n",
      "Name: target, dtype: float64\n"
     ]
    },
    {
     "data": {
      "image/png": "[encoded data removed]",
      "text/plain": [
       "<Figure size 432x288 with 1 Axes>"
      ]
     },
     "metadata": {},
     "output_type": "display_data"
    }
   ],
   "source": [
    "barplot_mean('housing', 'target', df)"
   ]
  },
  {
   "cell_type": "markdown",
   "metadata": {
    "papermill": {
     "duration": 0.124928,
     "end_time": "2020-10-08T19:13:54.186758",
     "exception": false,
     "start_time": "2020-10-08T19:13:54.061830",
     "status": "completed"
    },
    "tags": []
   },
   "source": [
    "### We see there is no significant difference in the trend for different housing loan status so we can conclude that this is a weak predictor of the dependent target"
   ]
  },
  {
   "cell_type": "markdown",
   "metadata": {
    "papermill": {
     "duration": 0.120118,
     "end_time": "2020-10-08T19:13:54.428467",
     "exception": false,
     "start_time": "2020-10-08T19:13:54.308349",
     "status": "completed"
    },
    "tags": []
   },
   "source": [
    "# 7. loan"
   ]
  },
  {
   "cell_type": "code",
   "execution_count": 27,
   "metadata": {
    "execution": {
     "iopub.execute_input": "2020-10-08T19:13:54.679512Z",
     "iopub.status.busy": "2020-10-08T19:13:54.677194Z",
     "iopub.status.idle": "2020-10-08T19:13:55.234479Z",
     "shell.execute_reply": "2020-10-08T19:13:55.233807Z"
    },
    "papermill": {
     "duration": 0.684742,
     "end_time": "2020-10-08T19:13:55.234634",
     "exception": false,
     "start_time": "2020-10-08T19:13:54.549892",
     "status": "completed"
    },
    "tags": []
   },
   "outputs": [
    {
     "name": "stdout",
     "output_type": "stream",
     "text": [
      "loan\n",
      "no         0.113402\n",
      "unknown    0.108081\n",
      "yes        0.109315\n",
      "Name: target, dtype: float64\n"
     ]
    },
    {
     "data": {
      "image/png": "[encoded data removed]",
      "text/plain": [
       "<Figure size 432x288 with 1 Axes>"
      ]
     },
     "metadata": {},
     "output_type": "display_data"
    }
   ],
   "source": [
    "barplot_mean('loan', 'target', df)"
   ]
  },
  {
   "cell_type": "markdown",
   "metadata": {
    "papermill": {
     "duration": 0.122229,
     "end_time": "2020-10-08T19:13:55.479008",
     "exception": false,
     "start_time": "2020-10-08T19:13:55.356779",
     "status": "completed"
    },
    "tags": []
   },
   "source": [
    "### We see there is no significant difference in the trend for different personal loan status so we can conclude that this is a weak predictor of the dependent target"
   ]
  },
  {
   "cell_type": "markdown",
   "metadata": {
    "papermill": {
     "duration": 0.121165,
     "end_time": "2020-10-08T19:13:55.721774",
     "exception": false,
     "start_time": "2020-10-08T19:13:55.600609",
     "status": "completed"
    },
    "tags": []
   },
   "source": [
    "# 8. contact"
   ]
  },
  {
   "cell_type": "code",
   "execution_count": 28,
   "metadata": {
    "execution": {
     "iopub.execute_input": "2020-10-08T19:13:55.973604Z",
     "iopub.status.busy": "2020-10-08T19:13:55.971266Z",
     "iopub.status.idle": "2020-10-08T19:13:56.471136Z",
     "shell.execute_reply": "2020-10-08T19:13:56.470487Z"
    },
    "papermill": {
     "duration": 0.627828,
     "end_time": "2020-10-08T19:13:56.471255",
     "exception": false,
     "start_time": "2020-10-08T19:13:55.843427",
     "status": "completed"
    },
    "tags": []
   },
   "outputs": [
    {
     "name": "stdout",
     "output_type": "stream",
     "text": [
      "contact\n",
      "cellular     0.147376\n",
      "telephone    0.052313\n",
      "Name: target, dtype: float64\n"
     ]
    },
    {
     "data": {
      "image/png": "[encoded data removed]",
      "text/plain": [
       "<Figure size 432x288 with 1 Axes>"
      ]
     },
     "metadata": {},
     "output_type": "display_data"
    }
   ],
   "source": [
    "barplot_mean('contact', 'target', df)"
   ]
  },
  {
   "cell_type": "markdown",
   "metadata": {
    "papermill": {
     "duration": 0.123967,
     "end_time": "2020-10-08T19:13:56.722793",
     "exception": false,
     "start_time": "2020-10-08T19:13:56.598826",
     "status": "completed"
    },
    "tags": []
   },
   "source": [
    "### This is a very good variable to design the audience which can be utilised later since it is able to discriminate the dependent target variable.\n",
    "\n",
    "### Note: We see that there is a positive slope in the trend"
   ]
  },
  {
   "cell_type": "markdown",
   "metadata": {
    "papermill": {
     "duration": 0.123789,
     "end_time": "2020-10-08T19:13:56.971228",
     "exception": false,
     "start_time": "2020-10-08T19:13:56.847439",
     "status": "completed"
    },
    "tags": []
   },
   "source": [
    "# 9. month"
   ]
  },
  {
   "cell_type": "code",
   "execution_count": 29,
   "metadata": {
    "execution": {
     "iopub.execute_input": "2020-10-08T19:13:57.229391Z",
     "iopub.status.busy": "2020-10-08T19:13:57.226933Z",
     "iopub.status.idle": "2020-10-08T19:13:58.067932Z",
     "shell.execute_reply": "2020-10-08T19:13:58.067332Z"
    },
    "papermill": {
     "duration": 0.971803,
     "end_time": "2020-10-08T19:13:58.068064",
     "exception": false,
     "start_time": "2020-10-08T19:13:57.096261",
     "status": "completed"
    },
    "tags": []
   },
   "outputs": [
    {
     "name": "stdout",
     "output_type": "stream",
     "text": [
      "month\n",
      "apr    0.204787\n",
      "aug    0.106021\n",
      "dec    0.489011\n",
      "jul    0.090466\n",
      "jun    0.105115\n",
      "mar    0.505495\n",
      "may    0.064347\n",
      "nov    0.101439\n",
      "oct    0.438719\n",
      "sep    0.449123\n",
      "Name: target, dtype: float64\n"
     ]
    },
    {
     "data": {
      "image/png": "[encoded data removed]",
      "text/plain": [
       "<Figure size 1152x288 with 1 Axes>"
      ]
     },
     "metadata": {},
     "output_type": "display_data"
    }
   ],
   "source": [
    "barplot_mean('month', 'target', df)"
   ]
  },
  {
   "cell_type": "markdown",
   "metadata": {
    "papermill": {
     "duration": 0.129083,
     "end_time": "2020-10-08T19:13:58.323586",
     "exception": false,
     "start_time": "2020-10-08T19:13:58.194503",
     "status": "completed"
    },
    "tags": []
   },
   "source": [
    "### We are not able to see any monotonic trend here. One way to resolve this is to see if grouping them into quarters will help us find any signals."
   ]
  },
  {
   "cell_type": "code",
   "execution_count": 30,
   "metadata": {
    "execution": {
     "iopub.execute_input": "2020-10-08T19:13:58.649837Z",
     "iopub.status.busy": "2020-10-08T19:13:58.649032Z",
     "iopub.status.idle": "2020-10-08T19:13:58.680805Z",
     "shell.execute_reply": "2020-10-08T19:13:58.680136Z"
    },
    "papermill": {
     "duration": 0.22808,
     "end_time": "2020-10-08T19:13:58.680928",
     "exception": false,
     "start_time": "2020-10-08T19:13:58.452848",
     "status": "completed"
    },
    "tags": []
   },
   "outputs": [
    {
     "data": {
      "text/plain": [
       "Q2    21719\n",
       "Q3    13922\n",
       "Q4     5001\n",
       "Q1      546\n",
       "Name: qtr, dtype: int64"
      ]
     },
     "execution_count": 30,
     "metadata": {},
     "output_type": "execute_result"
    }
   ],
   "source": [
    "qtr1 = ['jan', 'feb', 'mar']\n",
    "qtr2 = ['apr', 'may', 'jun']\n",
    "qtr3 = ['jul', 'aug', 'sep']\n",
    "qtr4 = ['oct', 'nov', 'dec']\n",
    "\n",
    "df['qtr'] = np.where(df['month'].isin(qtr1), 'Q1', \n",
    "                                       np.where(df['month'].isin(qtr2), 'Q2', \n",
    "                                       np.where(df['month'].isin(qtr3), 'Q3',\n",
    "                                       np.where(df['month'].isin(qtr4), 'Q4', 0)\n",
    "                                       )))\n",
    "df['qtr'].value_counts()"
   ]
  },
  {
   "cell_type": "markdown",
   "metadata": {
    "papermill": {
     "duration": 0.125564,
     "end_time": "2020-10-08T19:13:58.939528",
     "exception": false,
     "start_time": "2020-10-08T19:13:58.813964",
     "status": "completed"
    },
    "tags": []
   },
   "source": [
    "### `Q1` has the least amount of observation while `Q2` is the majority\n",
    "\n",
    "### We will study the behavior of the target variable with respect to quarter"
   ]
  },
  {
   "cell_type": "code",
   "execution_count": 31,
   "metadata": {
    "execution": {
     "iopub.execute_input": "2020-10-08T19:13:59.203850Z",
     "iopub.status.busy": "2020-10-08T19:13:59.201489Z",
     "iopub.status.idle": "2020-10-08T19:13:59.778049Z",
     "shell.execute_reply": "2020-10-08T19:13:59.777255Z"
    },
    "papermill": {
     "duration": 0.711245,
     "end_time": "2020-10-08T19:13:59.778177",
     "exception": false,
     "start_time": "2020-10-08T19:13:59.066932",
     "status": "completed"
    },
    "tags": []
   },
   "outputs": [
    {
     "name": "stdout",
     "output_type": "stream",
     "text": [
      "qtr\n",
      "Q1    0.505495\n",
      "Q2    0.091349\n",
      "Q3    0.112053\n",
      "Q4    0.163967\n",
      "Name: target, dtype: float64\n"
     ]
    },
    {
     "data": {
      "image/png": "[encoded data removed]",
      "text/plain": [
       "<Figure size 432x288 with 1 Axes>"
      ]
     },
     "metadata": {},
     "output_type": "display_data"
    }
   ],
   "source": [
    "barplot_mean('qtr', 'target', df)"
   ]
  },
  {
   "cell_type": "markdown",
   "metadata": {
    "papermill": {
     "duration": 0.128314,
     "end_time": "2020-10-08T19:14:00.035708",
     "exception": false,
     "start_time": "2020-10-08T19:13:59.907394",
     "status": "completed"
    },
    "tags": []
   },
   "source": [
    "### `Q1` is showing a likelihood of `50 %`. That is huge ! Of all the customers called in the start of the year, every second called customer will end up buying a term loan\n",
    "\n",
    "### While building our strategy, we can inform the marketing team to invest their major efforts in the beginning of the year to get the best results.\n",
    "\n",
    "### Arriving into `Q2`, there is a sharp decline in the interest of the customers. These may be the dry months for the marketing team. This can also support us building an effective strategy accordingly."
   ]
  },
  {
   "cell_type": "markdown",
   "metadata": {
    "papermill": {
     "duration": 0.128783,
     "end_time": "2020-10-08T19:14:00.292668",
     "exception": false,
     "start_time": "2020-10-08T19:14:00.163885",
     "status": "completed"
    },
    "tags": []
   },
   "source": [
    "## Let us try combining `qtr` and other variable together."
   ]
  },
  {
   "cell_type": "code",
   "execution_count": 32,
   "metadata": {
    "execution": {
     "iopub.execute_input": "2020-10-08T19:14:00.558977Z",
     "iopub.status.busy": "2020-10-08T19:14:00.555112Z",
     "iopub.status.idle": "2020-10-08T19:14:01.341729Z",
     "shell.execute_reply": "2020-10-08T19:14:01.341026Z"
    },
    "papermill": {
     "duration": 0.920726,
     "end_time": "2020-10-08T19:14:01.341855",
     "exception": false,
     "start_time": "2020-10-08T19:14:00.421129",
     "status": "completed"
    },
    "tags": []
   },
   "outputs": [
    {
     "name": "stdout",
     "output_type": "stream",
     "text": [
      "qtr\n",
      "Q1    0.505495\n",
      "Q2    0.091349\n",
      "Q3    0.112053\n",
      "Q4    0.163967\n",
      "Name: target, dtype: float64\n"
     ]
    },
    {
     "data": {
      "image/png": "[encoded data removed]",
      "text/plain": [
       "<Figure size 432x288 with 1 Axes>"
      ]
     },
     "metadata": {},
     "output_type": "display_data"
    }
   ],
   "source": [
    "barplot_mean('qtr', 'target', df, hue='contact')"
   ]
  },
  {
   "cell_type": "markdown",
   "metadata": {
    "papermill": {
     "duration": 0.129517,
     "end_time": "2020-10-08T19:14:01.600464",
     "exception": false,
     "start_time": "2020-10-08T19:14:01.470947",
     "status": "completed"
    },
    "tags": []
   },
   "source": [
    "### We have an interesting insight here ! `Q2` has a likelihood of `0.9%` but if you target the customers with `contact=\"cellular\"`, your chances are very much better than `0.9%`\n",
    "\n",
    "### We see an that `contact=\"cellular\"` is leading most of the quarters except `Q4`. There might be some external factors at play here.\n",
    "\n",
    "### We will try to look at the profiles of cellular customer across the quarters and their likelihood of purchasing the term loan"
   ]
  },
  {
   "cell_type": "code",
   "execution_count": 33,
   "metadata": {
    "execution": {
     "iopub.execute_input": "2020-10-08T19:14:01.872075Z",
     "iopub.status.busy": "2020-10-08T19:14:01.871212Z",
     "iopub.status.idle": "2020-10-08T19:14:01.908010Z",
     "shell.execute_reply": "2020-10-08T19:14:01.907388Z"
    },
    "papermill": {
     "duration": 0.178964,
     "end_time": "2020-10-08T19:14:01.908139",
     "exception": false,
     "start_time": "2020-10-08T19:14:01.729175",
     "status": "completed"
    },
    "tags": []
   },
   "outputs": [
    {
     "data": {
      "text/plain": [
       "qtr\n",
       "Q1    0.518519\n",
       "Q2    0.165775\n",
       "Q3    0.115961\n",
       "Q4    0.158842\n",
       "Name: target, dtype: float64"
      ]
     },
     "execution_count": 33,
     "metadata": {},
     "output_type": "execute_result"
    }
   ],
   "source": [
    "df[df['contact'] == \"cellular\"].groupby('qtr')['target'].mean()\n",
    "\n",
    "# avg. likelihood across qtr\n",
    "# Q1    0.505495\n",
    "# Q2    0.091349\n",
    "# Q3    0.112053\n",
    "# Q4    0.163967"
   ]
  },
  {
   "cell_type": "markdown",
   "metadata": {
    "papermill": {
     "duration": 0.129829,
     "end_time": "2020-10-08T19:14:02.168745",
     "exception": false,
     "start_time": "2020-10-08T19:14:02.038916",
     "status": "completed"
    },
    "tags": []
   },
   "source": [
    "# 10. poutcome"
   ]
  },
  {
   "cell_type": "code",
   "execution_count": 34,
   "metadata": {
    "execution": {
     "iopub.execute_input": "2020-10-08T19:14:02.438012Z",
     "iopub.status.busy": "2020-10-08T19:14:02.435835Z",
     "iopub.status.idle": "2020-10-08T19:14:02.995555Z",
     "shell.execute_reply": "2020-10-08T19:14:02.994881Z"
    },
    "papermill": {
     "duration": 0.695638,
     "end_time": "2020-10-08T19:14:02.995677",
     "exception": false,
     "start_time": "2020-10-08T19:14:02.300039",
     "status": "completed"
    },
    "tags": []
   },
   "outputs": [
    {
     "name": "stdout",
     "output_type": "stream",
     "text": [
      "poutcome\n",
      "failure        0.142286\n",
      "nonexistent    0.088322\n",
      "success        0.651129\n",
      "Name: target, dtype: float64\n"
     ]
    },
    {
     "data": {
      "image/png": "[encoded data removed]",
      "text/plain": [
       "<Figure size 432x288 with 1 Axes>"
      ]
     },
     "metadata": {},
     "output_type": "display_data"
    }
   ],
   "source": [
    "barplot_mean('poutcome', 'target', df)"
   ]
  },
  {
   "cell_type": "markdown",
   "metadata": {
    "papermill": {
     "duration": 0.130703,
     "end_time": "2020-10-08T19:14:03.257490",
     "exception": false,
     "start_time": "2020-10-08T19:14:03.126787",
     "status": "completed"
    },
    "tags": []
   },
   "source": [
    "### This is a very good variable to design the audience which can be utilised later since it is able to discriminate the dependent target variable.\n",
    "### Note: Customers who were a success earlier are `5 times` mre likely to buy the term loan than a person who was a failure\n",
    "\n",
    "### We will also merge `nonexistent` and `failure` together"
   ]
  },
  {
   "cell_type": "code",
   "execution_count": 35,
   "metadata": {
    "execution": {
     "iopub.execute_input": "2020-10-08T19:14:03.532289Z",
     "iopub.status.busy": "2020-10-08T19:14:03.531062Z",
     "iopub.status.idle": "2020-10-08T19:14:04.053794Z",
     "shell.execute_reply": "2020-10-08T19:14:04.053180Z"
    },
    "papermill": {
     "duration": 0.664597,
     "end_time": "2020-10-08T19:14:04.053946",
     "exception": false,
     "start_time": "2020-10-08T19:14:03.389349",
     "status": "completed"
    },
    "tags": []
   },
   "outputs": [
    {
     "name": "stdout",
     "output_type": "stream",
     "text": [
      "poutcome\n",
      "0    0.094085\n",
      "1    0.651129\n",
      "Name: target, dtype: float64\n"
     ]
    },
    {
     "data": {
      "image/png": "[encoded data removed]",
      "text/plain": [
       "<Figure size 432x288 with 1 Axes>"
      ]
     },
     "metadata": {},
     "output_type": "display_data"
    }
   ],
   "source": [
    "df['poutcome'] = np.where(df['poutcome'].isin(['nonexistent', 'failure']), 0, 1)\n",
    "barplot_mean('poutcome', 'target', df)"
   ]
  },
  {
   "cell_type": "code",
   "execution_count": 36,
   "metadata": {
    "execution": {
     "iopub.execute_input": "2020-10-08T19:14:04.334466Z",
     "iopub.status.busy": "2020-10-08T19:14:04.332126Z",
     "iopub.status.idle": "2020-10-08T19:14:05.108362Z",
     "shell.execute_reply": "2020-10-08T19:14:05.107597Z"
    },
    "papermill": {
     "duration": 0.916322,
     "end_time": "2020-10-08T19:14:05.108483",
     "exception": false,
     "start_time": "2020-10-08T19:14:04.192161",
     "status": "completed"
    },
    "tags": []
   },
   "outputs": [
    {
     "name": "stdout",
     "output_type": "stream",
     "text": [
      "qtr\n",
      "Q1    0.505495\n",
      "Q2    0.091349\n",
      "Q3    0.112053\n",
      "Q4    0.163967\n",
      "Name: target, dtype: float64\n"
     ]
    },
    {
     "data": {
      "image/png": "[encoded data removed]",
      "text/plain": [
       "<Figure size 432x288 with 1 Axes>"
      ]
     },
     "metadata": {},
     "output_type": "display_data"
    }
   ],
   "source": [
    "barplot_mean('qtr', 'target', df, hue='poutcome')"
   ]
  },
  {
   "cell_type": "code",
   "execution_count": 37,
   "metadata": {
    "execution": {
     "iopub.execute_input": "2020-10-08T19:14:05.384072Z",
     "iopub.status.busy": "2020-10-08T19:14:05.383267Z",
     "iopub.status.idle": "2020-10-08T19:14:05.396220Z",
     "shell.execute_reply": "2020-10-08T19:14:05.396780Z"
    },
    "papermill": {
     "duration": 0.153005,
     "end_time": "2020-10-08T19:14:05.396953",
     "exception": false,
     "start_time": "2020-10-08T19:14:05.243948",
     "status": "completed"
    },
    "tags": []
   },
   "outputs": [
    {
     "data": {
      "text/plain": [
       "qtr\n",
       "Q1    0.790123\n",
       "Q2    0.571134\n",
       "Q3    0.720174\n",
       "Q4    0.638728\n",
       "Name: target, dtype: float64"
      ]
     },
     "execution_count": 37,
     "metadata": {},
     "output_type": "execute_result"
    }
   ],
   "source": [
    "df[df['poutcome'] == 1].groupby('qtr')['target'].mean()\n",
    "\n",
    "# avg. likelihood across qtr\n",
    "# Q1    0.505495\n",
    "# Q2    0.091349\n",
    "# Q3    0.112053\n",
    "# Q4    0.163967"
   ]
  },
  {
   "cell_type": "markdown",
   "metadata": {
    "papermill": {
     "duration": 0.134273,
     "end_time": "2020-10-08T19:14:05.666487",
     "exception": false,
     "start_time": "2020-10-08T19:14:05.532214",
     "status": "completed"
    },
    "tags": []
   },
   "source": [
    "### We observe that when we combine `poutcome` and `quarter`. We will be able to build profiles that have 5-8 times better likelihood of success when compared to the no-model scenario. `Q3` has better chances than `Q4`\n",
    "\n",
    "### The idea is as we have seen above that `Q2` and `Q3` are not favorable in comparison to `Q1` and `Q4`, but in the practical scenario we can't stop the team to run campaigns in `Q2` and `Q3`. So we are adding surrogate variables to boost their performance.\n",
    "\n",
    "### Hope this notebook is useful 😄"
   ]
  },
  {
   "cell_type": "markdown",
   "metadata": {
    "papermill": {
     "duration": 0.135427,
     "end_time": "2020-10-08T19:14:05.936951",
     "exception": false,
     "start_time": "2020-10-08T19:14:05.801524",
     "status": "completed"
    },
    "tags": []
   },
   "source": [
    "# working with continous variables"
   ]
  },
  {
   "cell_type": "markdown",
   "metadata": {
    "papermill": {
     "duration": 0.134996,
     "end_time": "2020-10-08T19:14:06.209147",
     "exception": false,
     "start_time": "2020-10-08T19:14:06.074151",
     "status": "completed"
    },
    "tags": []
   },
   "source": [
    "### we will convert continuos variables into categories by binning them into ranks"
   ]
  },
  {
   "cell_type": "markdown",
   "metadata": {
    "papermill": {
     "duration": 0.134581,
     "end_time": "2020-10-08T19:14:06.478532",
     "exception": false,
     "start_time": "2020-10-08T19:14:06.343951",
     "status": "completed"
    },
    "tags": []
   },
   "source": [
    "# 11. age"
   ]
  },
  {
   "cell_type": "code",
   "execution_count": 38,
   "metadata": {
    "execution": {
     "iopub.execute_input": "2020-10-08T19:14:06.761564Z",
     "iopub.status.busy": "2020-10-08T19:14:06.760706Z",
     "iopub.status.idle": "2020-10-08T19:14:06.786491Z",
     "shell.execute_reply": "2020-10-08T19:14:06.785713Z"
    },
    "papermill": {
     "duration": 0.172535,
     "end_time": "2020-10-08T19:14:06.786638",
     "exception": false,
     "start_time": "2020-10-08T19:14:06.614103",
     "status": "completed"
    },
    "tags": []
   },
   "outputs": [
    {
     "data": {
      "text/plain": [
       "5    8238\n",
       "3    8238\n",
       "1    8238\n",
       "4    8237\n",
       "2    8237\n",
       "Name: age_rank, dtype: int64"
      ]
     },
     "execution_count": 38,
     "metadata": {},
     "output_type": "execute_result"
    }
   ],
   "source": [
    "df['age_rank'] = pd.qcut(df['age'].rank(method='first').values, 5, duplicates='drop').codes+1\n",
    "df['age_rank'].value_counts()\n",
    "\n",
    "# we have divided age into 5 ranks thery distributing 20% data in each rank\n",
    "# we can now see if there is any trend with respect to age on target"
   ]
  },
  {
   "cell_type": "code",
   "execution_count": 39,
   "metadata": {
    "execution": {
     "iopub.execute_input": "2020-10-08T19:14:07.065115Z",
     "iopub.status.busy": "2020-10-08T19:14:07.064283Z",
     "iopub.status.idle": "2020-10-08T19:14:07.721840Z",
     "shell.execute_reply": "2020-10-08T19:14:07.720852Z"
    },
    "papermill": {
     "duration": 0.800364,
     "end_time": "2020-10-08T19:14:07.721997",
     "exception": false,
     "start_time": "2020-10-08T19:14:06.921633",
     "status": "completed"
    },
    "tags": []
   },
   "outputs": [
    {
     "name": "stdout",
     "output_type": "stream",
     "text": [
      "age_rank\n",
      "1    0.143846\n",
      "2    0.107321\n",
      "3    0.084365\n",
      "4    0.081947\n",
      "5    0.145788\n",
      "Name: target, dtype: float64\n"
     ]
    },
    {
     "data": {
      "image/png": "[encoded data removed]",
      "text/plain": [
       "<Figure size 1152x288 with 1 Axes>"
      ]
     },
     "metadata": {},
     "output_type": "display_data"
    }
   ],
   "source": [
    "barplot_mean('age_rank', 'target', df)"
   ]
  },
  {
   "cell_type": "markdown",
   "metadata": {
    "papermill": {
     "duration": 0.139909,
     "end_time": "2020-10-08T19:14:08.004786",
     "exception": false,
     "start_time": "2020-10-08T19:14:07.864877",
     "status": "completed"
    },
    "tags": []
   },
   "source": [
    "### we see that we have `U-shaped` curve. This variable might not help us discriminate the dependent variable. The prediction will be impacted\n",
    "\n",
    "### let us try to combine this with `qtr`"
   ]
  },
  {
   "cell_type": "code",
   "execution_count": 40,
   "metadata": {
    "execution": {
     "iopub.execute_input": "2020-10-08T19:14:08.296052Z",
     "iopub.status.busy": "2020-10-08T19:14:08.294956Z",
     "iopub.status.idle": "2020-10-08T19:14:09.648468Z",
     "shell.execute_reply": "2020-10-08T19:14:09.647788Z"
    },
    "papermill": {
     "duration": 1.500899,
     "end_time": "2020-10-08T19:14:09.648637",
     "exception": false,
     "start_time": "2020-10-08T19:14:08.147738",
     "status": "completed"
    },
    "tags": []
   },
   "outputs": [
    {
     "name": "stdout",
     "output_type": "stream",
     "text": [
      "age_rank\n",
      "1    0.143846\n",
      "2    0.107321\n",
      "3    0.084365\n",
      "4    0.081947\n",
      "5    0.145788\n",
      "Name: target, dtype: float64\n"
     ]
    },
    {
     "data": {
      "image/png": "[encoded data removed]",
      "text/plain": [
       "<Figure size 1152x288 with 1 Axes>"
      ]
     },
     "metadata": {},
     "output_type": "display_data"
    }
   ],
   "source": [
    "barplot_mean('age_rank', 'target', df, hue='qtr')"
   ]
  },
  {
   "cell_type": "markdown",
   "metadata": {
    "papermill": {
     "duration": 0.141325,
     "end_time": "2020-10-08T19:14:09.929843",
     "exception": false,
     "start_time": "2020-10-08T19:14:09.788518",
     "status": "completed"
    },
    "tags": []
   },
   "source": [
    "### As we can infer from this graph, `Q1` seems to stand out everytime as evident earlier since it has a likelihood of `50 %`"
   ]
  },
  {
   "cell_type": "markdown",
   "metadata": {
    "papermill": {
     "duration": 0.140058,
     "end_time": "2020-10-08T19:14:10.209419",
     "exception": false,
     "start_time": "2020-10-08T19:14:10.069361",
     "status": "completed"
    },
    "tags": []
   },
   "source": [
    "# 12. duration"
   ]
  },
  {
   "cell_type": "code",
   "execution_count": 41,
   "metadata": {
    "execution": {
     "iopub.execute_input": "2020-10-08T19:14:10.499086Z",
     "iopub.status.busy": "2020-10-08T19:14:10.498023Z",
     "iopub.status.idle": "2020-10-08T19:14:10.519108Z",
     "shell.execute_reply": "2020-10-08T19:14:10.518443Z"
    },
    "papermill": {
     "duration": 0.168706,
     "end_time": "2020-10-08T19:14:10.519236",
     "exception": false,
     "start_time": "2020-10-08T19:14:10.350530",
     "status": "completed"
    },
    "tags": []
   },
   "outputs": [
    {
     "data": {
      "text/plain": [
       "5    8238\n",
       "3    8238\n",
       "1    8238\n",
       "4    8237\n",
       "2    8237\n",
       "Name: duration_rank, dtype: int64"
      ]
     },
     "execution_count": 41,
     "metadata": {},
     "output_type": "execute_result"
    }
   ],
   "source": [
    "df['duration_rank'] = pd.qcut(df['duration'].rank(method='first').values, 5, duplicates='drop').codes+1\n",
    "df['duration_rank'].value_counts()"
   ]
  },
  {
   "cell_type": "code",
   "execution_count": 42,
   "metadata": {
    "execution": {
     "iopub.execute_input": "2020-10-08T19:14:10.807896Z",
     "iopub.status.busy": "2020-10-08T19:14:10.806785Z",
     "iopub.status.idle": "2020-10-08T19:14:11.427375Z",
     "shell.execute_reply": "2020-10-08T19:14:11.426786Z"
    },
    "papermill": {
     "duration": 0.767242,
     "end_time": "2020-10-08T19:14:11.427505",
     "exception": false,
     "start_time": "2020-10-08T19:14:10.660263",
     "status": "completed"
    },
    "tags": []
   },
   "outputs": [
    {
     "name": "stdout",
     "output_type": "stream",
     "text": [
      "duration_rank\n",
      "1    0.004613\n",
      "2    0.032051\n",
      "3    0.072833\n",
      "4    0.123831\n",
      "5    0.329934\n",
      "Name: target, dtype: float64\n"
     ]
    },
    {
     "data": {
      "image/png": "[encoded data removed]",
      "text/plain": [
       "<Figure size 1152x288 with 1 Axes>"
      ]
     },
     "metadata": {},
     "output_type": "display_data"
    }
   ],
   "source": [
    "barplot_mean('duration_rank', 'target', df)"
   ]
  },
  {
   "cell_type": "markdown",
   "metadata": {
    "papermill": {
     "duration": 0.14017,
     "end_time": "2020-10-08T19:14:11.709379",
     "exception": false,
     "start_time": "2020-10-08T19:14:11.569209",
     "status": "completed"
    },
    "tags": []
   },
   "source": [
    "### From the perspective of discrimination, we see a very strong positive trend. As the duration is increasing, the chances of buying the term loan is almost doubling. This will be an excellent predictor while using in the model\n",
    "\n",
    "### But we have to be cautious of using `duration` because by definition `duration` is last contact duration, in seconds and we do not know the duration until a call is made.\n",
    "\n",
    "### so we will move ahead"
   ]
  },
  {
   "cell_type": "markdown",
   "metadata": {
    "papermill": {
     "duration": 0.140718,
     "end_time": "2020-10-08T19:14:11.991026",
     "exception": false,
     "start_time": "2020-10-08T19:14:11.850308",
     "status": "completed"
    },
    "tags": []
   },
   "source": [
    "# 13. campaign"
   ]
  },
  {
   "cell_type": "code",
   "execution_count": 43,
   "metadata": {
    "execution": {
     "iopub.execute_input": "2020-10-08T19:14:12.283966Z",
     "iopub.status.busy": "2020-10-08T19:14:12.283066Z",
     "iopub.status.idle": "2020-10-08T19:14:12.300606Z",
     "shell.execute_reply": "2020-10-08T19:14:12.299975Z"
    },
    "papermill": {
     "duration": 0.166558,
     "end_time": "2020-10-08T19:14:12.300739",
     "exception": false,
     "start_time": "2020-10-08T19:14:12.134181",
     "status": "completed"
    },
    "tags": []
   },
   "outputs": [
    {
     "data": {
      "text/plain": [
       "5    8238\n",
       "3    8238\n",
       "1    8238\n",
       "4    8237\n",
       "2    8237\n",
       "Name: campaign_rank, dtype: int64"
      ]
     },
     "execution_count": 43,
     "metadata": {},
     "output_type": "execute_result"
    }
   ],
   "source": [
    "df['campaign_rank'] = pd.qcut(df['campaign'].rank(method='first').values, 5, duplicates='drop').codes+1\n",
    "df['campaign_rank'].value_counts()"
   ]
  },
  {
   "cell_type": "code",
   "execution_count": 44,
   "metadata": {
    "execution": {
     "iopub.execute_input": "2020-10-08T19:14:12.593279Z",
     "iopub.status.busy": "2020-10-08T19:14:12.592500Z",
     "iopub.status.idle": "2020-10-08T19:14:13.239832Z",
     "shell.execute_reply": "2020-10-08T19:14:13.239068Z"
    },
    "papermill": {
     "duration": 0.796621,
     "end_time": "2020-10-08T19:14:13.239954",
     "exception": false,
     "start_time": "2020-10-08T19:14:12.443333",
     "status": "completed"
    },
    "tags": []
   },
   "outputs": [
    {
     "name": "stdout",
     "output_type": "stream",
     "text": [
      "campaign_rank\n",
      "1    0.043700\n",
      "2    0.161345\n",
      "3    0.119325\n",
      "4    0.140342\n",
      "5    0.098568\n",
      "Name: target, dtype: float64\n"
     ]
    },
    {
     "data": {
      "image/png": "[encoded data removed]",
      "text/plain": [
       "<Figure size 1152x288 with 1 Axes>"
      ]
     },
     "metadata": {},
     "output_type": "display_data"
    }
   ],
   "source": [
    "barplot_mean('campaign_rank', 'target', df)"
   ]
  },
  {
   "cell_type": "markdown",
   "metadata": {
    "papermill": {
     "duration": 0.143711,
     "end_time": "2020-10-08T19:14:13.528102",
     "exception": false,
     "start_time": "2020-10-08T19:14:13.384391",
     "status": "completed"
    },
    "tags": []
   },
   "source": [
    "### this plot is showing a non-linear trend. Let us look at what kind of value does `campaign` takes ?"
   ]
  },
  {
   "cell_type": "code",
   "execution_count": 45,
   "metadata": {
    "execution": {
     "iopub.execute_input": "2020-10-08T19:14:13.824743Z",
     "iopub.status.busy": "2020-10-08T19:14:13.823944Z",
     "iopub.status.idle": "2020-10-08T19:14:13.846528Z",
     "shell.execute_reply": "2020-10-08T19:14:13.845918Z"
    },
    "papermill": {
     "duration": 0.173864,
     "end_time": "2020-10-08T19:14:13.846702",
     "exception": false,
     "start_time": "2020-10-08T19:14:13.672838",
     "status": "completed"
    },
    "tags": []
   },
   "outputs": [
    {
     "name": "stdout",
     "output_type": "stream",
     "text": [
      "campaign_rank\n",
      "1    1\n",
      "2    1\n",
      "3    1\n",
      "4    2\n",
      "5    3\n",
      "Name: campaign, dtype: int64\n",
      "******************************\n",
      "campaign_rank\n",
      "1    1.000000\n",
      "2    1.000000\n",
      "3    1.858339\n",
      "4    2.575209\n",
      "5    6.404224\n",
      "Name: campaign, dtype: float64\n",
      "******************************\n",
      "campaign_rank\n",
      "1     1\n",
      "2     1\n",
      "3     2\n",
      "4     3\n",
      "5    56\n",
      "Name: campaign, dtype: int64\n"
     ]
    }
   ],
   "source": [
    "print(df.groupby('campaign_rank')['campaign'].min())\n",
    "print(\"*\"*30)\n",
    "print(df.groupby('campaign_rank')['campaign'].mean())\n",
    "print(\"*\"*30)\n",
    "print(df.groupby('campaign_rank')['campaign'].max())"
   ]
  },
  {
   "cell_type": "markdown",
   "metadata": {
    "papermill": {
     "duration": 0.14752,
     "end_time": "2020-10-08T19:14:14.139176",
     "exception": false,
     "start_time": "2020-10-08T19:14:13.991656",
     "status": "completed"
    },
    "tags": []
   },
   "source": [
    "# 14. pdays"
   ]
  },
  {
   "cell_type": "code",
   "execution_count": 46,
   "metadata": {
    "execution": {
     "iopub.execute_input": "2020-10-08T19:14:14.435534Z",
     "iopub.status.busy": "2020-10-08T19:14:14.434387Z",
     "iopub.status.idle": "2020-10-08T19:14:14.449777Z",
     "shell.execute_reply": "2020-10-08T19:14:14.449009Z"
    },
    "papermill": {
     "duration": 0.166075,
     "end_time": "2020-10-08T19:14:14.449904",
     "exception": false,
     "start_time": "2020-10-08T19:14:14.283829",
     "status": "completed"
    },
    "tags": []
   },
   "outputs": [
    {
     "data": {
      "text/plain": [
       "5    8238\n",
       "3    8238\n",
       "1    8238\n",
       "4    8237\n",
       "2    8237\n",
       "Name: pdays_rank, dtype: int64"
      ]
     },
     "execution_count": 46,
     "metadata": {},
     "output_type": "execute_result"
    }
   ],
   "source": [
    "df['pdays_rank'] = pd.qcut(df['pdays'].rank(method='first').values, 5, duplicates='drop').codes+1\n",
    "df['pdays_rank'].value_counts()"
   ]
  },
  {
   "cell_type": "code",
   "execution_count": 47,
   "metadata": {
    "execution": {
     "iopub.execute_input": "2020-10-08T19:14:14.747894Z",
     "iopub.status.busy": "2020-10-08T19:14:14.747100Z",
     "iopub.status.idle": "2020-10-08T19:14:15.363245Z",
     "shell.execute_reply": "2020-10-08T19:14:15.362628Z"
    },
    "papermill": {
     "duration": 0.766547,
     "end_time": "2020-10-08T19:14:15.363377",
     "exception": false,
     "start_time": "2020-10-08T19:14:14.596830",
     "status": "completed"
    },
    "tags": []
   },
   "outputs": [
    {
     "name": "stdout",
     "output_type": "stream",
     "text": [
      "pdays_rank\n",
      "1    0.141418\n",
      "2    0.049168\n",
      "3    0.058388\n",
      "4    0.106835\n",
      "5    0.207453\n",
      "Name: target, dtype: float64\n"
     ]
    },
    {
     "data": {
      "image/png": "[encoded data removed]",
      "text/plain": [
       "<Figure size 1152x288 with 1 Axes>"
      ]
     },
     "metadata": {},
     "output_type": "display_data"
    }
   ],
   "source": [
    "barplot_mean('pdays_rank', 'target', df)"
   ]
  },
  {
   "cell_type": "code",
   "execution_count": 48,
   "metadata": {
    "execution": {
     "iopub.execute_input": "2020-10-08T19:14:15.670163Z",
     "iopub.status.busy": "2020-10-08T19:14:15.669040Z",
     "iopub.status.idle": "2020-10-08T19:14:15.684142Z",
     "shell.execute_reply": "2020-10-08T19:14:15.683139Z"
    },
    "papermill": {
     "duration": 0.173277,
     "end_time": "2020-10-08T19:14:15.684328",
     "exception": false,
     "start_time": "2020-10-08T19:14:15.511051",
     "status": "completed"
    },
    "tags": []
   },
   "outputs": [
    {
     "name": "stdout",
     "output_type": "stream",
     "text": [
      "pdays_rank\n",
      "1      0\n",
      "2    999\n",
      "3    999\n",
      "4    999\n",
      "5    999\n",
      "Name: pdays, dtype: int64\n",
      "******************************\n",
      "pdays_rank\n",
      "1    816.386137\n",
      "2    999.000000\n",
      "3    999.000000\n",
      "4    999.000000\n",
      "5    999.000000\n",
      "Name: pdays, dtype: float64\n",
      "******************************\n",
      "pdays_rank\n",
      "1    999\n",
      "2    999\n",
      "3    999\n",
      "4    999\n",
      "5    999\n",
      "Name: pdays, dtype: int64\n"
     ]
    }
   ],
   "source": [
    "print(df.groupby('pdays_rank')['pdays'].min())\n",
    "print(\"*\"*30)\n",
    "print(df.groupby('pdays_rank')['pdays'].mean())\n",
    "print(\"*\"*30)\n",
    "print(df.groupby('pdays_rank')['pdays'].max())"
   ]
  },
  {
   "cell_type": "markdown",
   "metadata": {
    "papermill": {
     "duration": 0.148633,
     "end_time": "2020-10-08T19:14:15.982755",
     "exception": false,
     "start_time": "2020-10-08T19:14:15.834122",
     "status": "completed"
    },
    "tags": []
   },
   "source": [
    "# 15. previous"
   ]
  },
  {
   "cell_type": "code",
   "execution_count": 49,
   "metadata": {
    "execution": {
     "iopub.execute_input": "2020-10-08T19:14:16.285649Z",
     "iopub.status.busy": "2020-10-08T19:14:16.284655Z",
     "iopub.status.idle": "2020-10-08T19:14:16.299493Z",
     "shell.execute_reply": "2020-10-08T19:14:16.298752Z"
    },
    "papermill": {
     "duration": 0.168611,
     "end_time": "2020-10-08T19:14:16.299639",
     "exception": false,
     "start_time": "2020-10-08T19:14:16.131028",
     "status": "completed"
    },
    "tags": []
   },
   "outputs": [
    {
     "data": {
      "text/plain": [
       "5    8238\n",
       "3    8238\n",
       "1    8238\n",
       "4    8237\n",
       "2    8237\n",
       "Name: prev_rank, dtype: int64"
      ]
     },
     "execution_count": 49,
     "metadata": {},
     "output_type": "execute_result"
    }
   ],
   "source": [
    "df['prev_rank'] = pd.qcut(df['previous'].rank(method='first').values, 5, duplicates='drop').codes+1\n",
    "df['prev_rank'].value_counts()"
   ]
  },
  {
   "cell_type": "code",
   "execution_count": 50,
   "metadata": {
    "execution": {
     "iopub.execute_input": "2020-10-08T19:14:16.601999Z",
     "iopub.status.busy": "2020-10-08T19:14:16.600863Z",
     "iopub.status.idle": "2020-10-08T19:14:17.217224Z",
     "shell.execute_reply": "2020-10-08T19:14:17.216586Z"
    },
    "papermill": {
     "duration": 0.770221,
     "end_time": "2020-10-08T19:14:17.217355",
     "exception": false,
     "start_time": "2020-10-08T19:14:16.447134",
     "status": "completed"
    },
    "tags": []
   },
   "outputs": [
    {
     "name": "stdout",
     "output_type": "stream",
     "text": [
      "prev_rank\n",
      "1    0.031440\n",
      "2    0.054267\n",
      "3    0.058267\n",
      "4    0.117154\n",
      "5    0.302136\n",
      "Name: target, dtype: float64\n"
     ]
    },
    {
     "data": {
      "image/png": "[encoded data removed]",
      "text/plain": [
       "<Figure size 1152x288 with 1 Axes>"
      ]
     },
     "metadata": {},
     "output_type": "display_data"
    }
   ],
   "source": [
    "barplot_mean('prev_rank', 'target', df)"
   ]
  },
  {
   "cell_type": "markdown",
   "metadata": {
    "papermill": {
     "duration": 0.149637,
     "end_time": "2020-10-08T19:14:17.517114",
     "exception": false,
     "start_time": "2020-10-08T19:14:17.367477",
     "status": "completed"
    },
    "tags": []
   },
   "source": [
    "### This is a very good variable to design the audience which can be utilised later since it is able to discriminate the dependent target variable."
   ]
  },
  {
   "cell_type": "code",
   "execution_count": 51,
   "metadata": {
    "execution": {
     "iopub.execute_input": "2020-10-08T19:14:17.826494Z",
     "iopub.status.busy": "2020-10-08T19:14:17.824071Z",
     "iopub.status.idle": "2020-10-08T19:14:18.844048Z",
     "shell.execute_reply": "2020-10-08T19:14:18.843349Z"
    },
    "papermill": {
     "duration": 1.176183,
     "end_time": "2020-10-08T19:14:18.844182",
     "exception": false,
     "start_time": "2020-10-08T19:14:17.667999",
     "status": "completed"
    },
    "tags": []
   },
   "outputs": [
    {
     "name": "stdout",
     "output_type": "stream",
     "text": [
      "qtr\n",
      "Q1    0.505495\n",
      "Q2    0.091349\n",
      "Q3    0.112053\n",
      "Q4    0.163967\n",
      "Name: target, dtype: float64\n"
     ]
    },
    {
     "data": {
      "image/png": "[encoded data removed]",
      "text/plain": [
       "<Figure size 432x288 with 1 Axes>"
      ]
     },
     "metadata": {},
     "output_type": "display_data"
    }
   ],
   "source": [
    "barplot_mean('qtr', 'target', df, hue='prev_rank')"
   ]
  },
  {
   "cell_type": "markdown",
   "metadata": {
    "papermill": {
     "duration": 0.152398,
     "end_time": "2020-10-08T19:14:19.148702",
     "exception": false,
     "start_time": "2020-10-08T19:14:18.996304",
     "status": "completed"
    },
    "tags": []
   },
   "source": [
    "# 16. emp.var.rate"
   ]
  },
  {
   "cell_type": "code",
   "execution_count": 52,
   "metadata": {
    "execution": {
     "iopub.execute_input": "2020-10-08T19:14:19.459530Z",
     "iopub.status.busy": "2020-10-08T19:14:19.458350Z",
     "iopub.status.idle": "2020-10-08T19:14:20.224185Z",
     "shell.execute_reply": "2020-10-08T19:14:20.223435Z"
    },
    "papermill": {
     "duration": 0.924903,
     "end_time": "2020-10-08T19:14:20.224305",
     "exception": false,
     "start_time": "2020-10-08T19:14:19.299402",
     "status": "completed"
    },
    "tags": []
   },
   "outputs": [
    {
     "name": "stdout",
     "output_type": "stream",
     "text": [
      "emp.var.rate_rank\n",
      "1    0.230396\n",
      "2    0.193881\n",
      "3    0.032289\n",
      "4    0.052568\n",
      "5    0.054139\n",
      "Name: target, dtype: float64\n"
     ]
    },
    {
     "data": {
      "image/png": "[encoded data removed]",
      "text/plain": [
       "<Figure size 1152x288 with 1 Axes>"
      ]
     },
     "metadata": {},
     "output_type": "display_data"
    }
   ],
   "source": [
    "df['emp.var.rate_rank'] = pd.qcut(df['emp.var.rate'].rank(method='first').values, 5, duplicates='drop').codes+1\n",
    "barplot_mean('emp.var.rate_rank', 'target', df)"
   ]
  },
  {
   "cell_type": "markdown",
   "metadata": {
    "papermill": {
     "duration": 0.176375,
     "end_time": "2020-10-08T19:14:20.552960",
     "exception": false,
     "start_time": "2020-10-08T19:14:20.376585",
     "status": "completed"
    },
    "tags": []
   },
   "source": [
    "### This can behave as a good predictor in case of a decision tree since the lower ranks are capturing more and higher ranks are capturing less"
   ]
  },
  {
   "cell_type": "markdown",
   "metadata": {
    "papermill": {
     "duration": 0.15552,
     "end_time": "2020-10-08T19:14:20.872899",
     "exception": false,
     "start_time": "2020-10-08T19:14:20.717379",
     "status": "completed"
    },
    "tags": []
   },
   "source": [
    "# 17. cons.price.idx"
   ]
  },
  {
   "cell_type": "code",
   "execution_count": 53,
   "metadata": {
    "execution": {
     "iopub.execute_input": "2020-10-08T19:14:21.185961Z",
     "iopub.status.busy": "2020-10-08T19:14:21.185131Z",
     "iopub.status.idle": "2020-10-08T19:14:21.797946Z",
     "shell.execute_reply": "2020-10-08T19:14:21.797321Z"
    },
    "papermill": {
     "duration": 0.772324,
     "end_time": "2020-10-08T19:14:21.798076",
     "exception": false,
     "start_time": "2020-10-08T19:14:21.025752",
     "status": "completed"
    },
    "tags": []
   },
   "outputs": [
    {
     "name": "stdout",
     "output_type": "stream",
     "text": [
      "cons.price.idx_rank\n",
      "1    0.184511\n",
      "2    0.136215\n",
      "3    0.085700\n",
      "4    0.038121\n",
      "5    0.118718\n",
      "Name: target, dtype: float64\n"
     ]
    },
    {
     "data": {
      "image/png": "[encoded data removed]",
      "text/plain": [
       "<Figure size 1152x288 with 1 Axes>"
      ]
     },
     "metadata": {},
     "output_type": "display_data"
    }
   ],
   "source": [
    "df['cons.price.idx_rank'] = pd.qcut(df['cons.price.idx'].rank(method='first').values, 5, duplicates='drop').codes+1\n",
    "barplot_mean('cons.price.idx_rank', 'target', df)"
   ]
  },
  {
   "cell_type": "markdown",
   "metadata": {
    "papermill": {
     "duration": 0.155646,
     "end_time": "2020-10-08T19:14:22.109220",
     "exception": false,
     "start_time": "2020-10-08T19:14:21.953574",
     "status": "completed"
    },
    "tags": []
   },
   "source": [
    "### We observe a strong slope from rank 1 to 4"
   ]
  },
  {
   "cell_type": "markdown",
   "metadata": {
    "papermill": {
     "duration": 0.15623,
     "end_time": "2020-10-08T19:14:22.421176",
     "exception": false,
     "start_time": "2020-10-08T19:14:22.264946",
     "status": "completed"
    },
    "tags": []
   },
   "source": [
    "# 18. cons.conf.idx"
   ]
  },
  {
   "cell_type": "code",
   "execution_count": 54,
   "metadata": {
    "execution": {
     "iopub.execute_input": "2020-10-08T19:14:22.738521Z",
     "iopub.status.busy": "2020-10-08T19:14:22.737746Z",
     "iopub.status.idle": "2020-10-08T19:14:23.368372Z",
     "shell.execute_reply": "2020-10-08T19:14:23.367623Z"
    },
    "papermill": {
     "duration": 0.79254,
     "end_time": "2020-10-08T19:14:23.368508",
     "exception": false,
     "start_time": "2020-10-08T19:14:22.575968",
     "status": "completed"
    },
    "tags": []
   },
   "outputs": [
    {
     "name": "stdout",
     "output_type": "stream",
     "text": [
      "cons.conf.idx_rank\n",
      "1    0.137776\n",
      "2    0.068836\n",
      "3    0.102088\n",
      "4    0.082919\n",
      "5    0.171644\n",
      "Name: target, dtype: float64\n"
     ]
    },
    {
     "data": {
      "image/png": "[encoded data removed]",
      "text/plain": [
       "<Figure size 1152x288 with 1 Axes>"
      ]
     },
     "metadata": {},
     "output_type": "display_data"
    }
   ],
   "source": [
    "df['cons.conf.idx_rank'] = pd.qcut(df['cons.conf.idx'].rank(method='first').values, 5, duplicates='drop').codes+1\n",
    "barplot_mean('cons.conf.idx_rank', 'target', df)"
   ]
  },
  {
   "cell_type": "markdown",
   "metadata": {
    "papermill": {
     "duration": 0.156116,
     "end_time": "2020-10-08T19:14:23.680159",
     "exception": false,
     "start_time": "2020-10-08T19:14:23.524043",
     "status": "completed"
    },
    "tags": []
   },
   "source": [
    "### We observe that this is a very weak predictor"
   ]
  },
  {
   "cell_type": "markdown",
   "metadata": {
    "papermill": {
     "duration": 0.156587,
     "end_time": "2020-10-08T19:14:23.994036",
     "exception": false,
     "start_time": "2020-10-08T19:14:23.837449",
     "status": "completed"
    },
    "tags": []
   },
   "source": [
    "# 19.euribor3m"
   ]
  },
  {
   "cell_type": "code",
   "execution_count": 55,
   "metadata": {
    "execution": {
     "iopub.execute_input": "2020-10-08T19:14:24.320777Z",
     "iopub.status.busy": "2020-10-08T19:14:24.320011Z",
     "iopub.status.idle": "2020-10-08T19:14:24.938899Z",
     "shell.execute_reply": "2020-10-08T19:14:24.938285Z"
    },
    "papermill": {
     "duration": 0.782082,
     "end_time": "2020-10-08T19:14:24.939024",
     "exception": false,
     "start_time": "2020-10-08T19:14:24.156942",
     "status": "completed"
    },
    "tags": []
   },
   "outputs": [
    {
     "name": "stdout",
     "output_type": "stream",
     "text": [
      "euribor3m_rank\n",
      "1    0.308813\n",
      "2    0.110113\n",
      "3    0.034839\n",
      "4    0.054389\n",
      "5    0.055110\n",
      "Name: target, dtype: float64\n"
     ]
    },
    {
     "data": {
      "image/png": "[encoded data removed]",
      "text/plain": [
       "<Figure size 1152x288 with 1 Axes>"
      ]
     },
     "metadata": {},
     "output_type": "display_data"
    }
   ],
   "source": [
    "df['euribor3m_rank'] = pd.qcut(df['euribor3m'].rank(method='first').values, 5, duplicates='drop').codes+1\n",
    "barplot_mean('euribor3m_rank', 'target', df)"
   ]
  },
  {
   "cell_type": "markdown",
   "metadata": {
    "papermill": {
     "duration": 0.158398,
     "end_time": "2020-10-08T19:14:25.255610",
     "exception": false,
     "start_time": "2020-10-08T19:14:25.097212",
     "status": "completed"
    },
    "tags": []
   },
   "source": [
    "### We observe that this can used in a decision tree to make audiences"
   ]
  },
  {
   "cell_type": "markdown",
   "metadata": {
    "papermill": {
     "duration": 0.15795,
     "end_time": "2020-10-08T19:14:25.571889",
     "exception": false,
     "start_time": "2020-10-08T19:14:25.413939",
     "status": "completed"
    },
    "tags": []
   },
   "source": [
    "# 20.nr.employed"
   ]
  },
  {
   "cell_type": "code",
   "execution_count": 56,
   "metadata": {
    "execution": {
     "iopub.execute_input": "2020-10-08T19:14:25.896282Z",
     "iopub.status.busy": "2020-10-08T19:14:25.895113Z",
     "iopub.status.idle": "2020-10-08T19:14:26.525743Z",
     "shell.execute_reply": "2020-10-08T19:14:26.524976Z"
    },
    "papermill": {
     "duration": 0.794718,
     "end_time": "2020-10-08T19:14:26.525872",
     "exception": false,
     "start_time": "2020-10-08T19:14:25.731154",
     "status": "completed"
    },
    "tags": []
   },
   "outputs": [
    {
     "name": "stdout",
     "output_type": "stream",
     "text": [
      "nr.employed_rank\n",
      "1    0.346443\n",
      "2    0.063008\n",
      "3    0.047706\n",
      "4    0.051961\n",
      "5    0.054139\n",
      "Name: target, dtype: float64\n"
     ]
    },
    {
     "data": {
      "image/png": "[encoded data removed]",
      "text/plain": [
       "<Figure size 1152x288 with 1 Axes>"
      ]
     },
     "metadata": {},
     "output_type": "display_data"
    }
   ],
   "source": [
    "df['nr.employed_rank'] = pd.qcut(df['nr.employed'].rank(method='first').values, 5, duplicates='drop').codes+1\n",
    "barplot_mean('nr.employed_rank', 'target', df)"
   ]
  },
  {
   "cell_type": "markdown",
   "metadata": {
    "papermill": {
     "duration": 0.159453,
     "end_time": "2020-10-08T19:14:26.846204",
     "exception": false,
     "start_time": "2020-10-08T19:14:26.686751",
     "status": "completed"
    },
    "tags": []
   },
   "source": [
    "### We observe that this can used in a decision tree to make audiences. Let us kbreak it into 10 ranks instead of 5"
   ]
  },
  {
   "cell_type": "code",
   "execution_count": 57,
   "metadata": {
    "execution": {
     "iopub.execute_input": "2020-10-08T19:14:27.174417Z",
     "iopub.status.busy": "2020-10-08T19:14:27.173320Z",
     "iopub.status.idle": "2020-10-08T19:14:28.131961Z",
     "shell.execute_reply": "2020-10-08T19:14:28.131214Z"
    },
    "papermill": {
     "duration": 1.125697,
     "end_time": "2020-10-08T19:14:28.132084",
     "exception": false,
     "start_time": "2020-10-08T19:14:27.006387",
     "status": "completed"
    },
    "tags": []
   },
   "outputs": [
    {
     "name": "stdout",
     "output_type": "stream",
     "text": [
      "nr.employed_rank\n",
      "1     0.467346\n",
      "2     0.225540\n",
      "3     0.070163\n",
      "4     0.055852\n",
      "5     0.033261\n",
      "6     0.062151\n",
      "7     0.042496\n",
      "8     0.061423\n",
      "9     0.058995\n",
      "10    0.049284\n",
      "Name: target, dtype: float64\n"
     ]
    },
    {
     "data": {
      "image/png": "[encoded data removed]",
      "text/plain": [
       "<Figure size 1152x288 with 1 Axes>"
      ]
     },
     "metadata": {},
     "output_type": "display_data"
    }
   ],
   "source": [
    "df['nr.employed_rank'] = pd.qcut(df['nr.employed'].rank(method='first').values, 10, duplicates='drop').codes+1\n",
    "barplot_mean('nr.employed_rank', 'target', df)"
   ]
  },
  {
   "cell_type": "markdown",
   "metadata": {
    "papermill": {
     "duration": 0.159819,
     "end_time": "2020-10-08T19:14:28.452610",
     "exception": false,
     "start_time": "2020-10-08T19:14:28.292791",
     "status": "completed"
    },
    "tags": []
   },
   "source": [
    "### We can see the behavior that rank 1 has now higher likelihood and the trend is going in a decreasing fashion. We can transform this to add a discrimatory slope by merging everything after the 3rd rank with itself"
   ]
  },
  {
   "cell_type": "code",
   "execution_count": 58,
   "metadata": {
    "execution": {
     "iopub.execute_input": "2020-10-08T19:14:28.787841Z",
     "iopub.status.busy": "2020-10-08T19:14:28.786780Z",
     "iopub.status.idle": "2020-10-08T19:14:28.806924Z",
     "shell.execute_reply": "2020-10-08T19:14:28.806138Z"
    },
    "papermill": {
     "duration": 0.188542,
     "end_time": "2020-10-08T19:14:28.807050",
     "exception": false,
     "start_time": "2020-10-08T19:14:28.618508",
     "status": "completed"
    },
    "tags": []
   },
   "outputs": [
    {
     "data": {
      "text/plain": [
       "C    32950\n",
       "A     4119\n",
       "B     4119\n",
       "Name: nr.employed_rank, dtype: int64"
      ]
     },
     "execution_count": 58,
     "metadata": {},
     "output_type": "execute_result"
    }
   ],
   "source": [
    "df['nr.employed_rank'] = np.where(df['nr.employed_rank'].isin(['1']), 'A', \n",
    "                                       np.where(df['nr.employed_rank'].isin(['2']), 'B', 'C'))\n",
    "                                                                            \n",
    "df['nr.employed_rank'].value_counts()"
   ]
  },
  {
   "cell_type": "code",
   "execution_count": 59,
   "metadata": {
    "execution": {
     "iopub.execute_input": "2020-10-08T19:14:29.141651Z",
     "iopub.status.busy": "2020-10-08T19:14:29.138108Z",
     "iopub.status.idle": "2020-10-08T19:14:29.697859Z",
     "shell.execute_reply": "2020-10-08T19:14:29.698839Z"
    },
    "papermill": {
     "duration": 0.729349,
     "end_time": "2020-10-08T19:14:29.699048",
     "exception": false,
     "start_time": "2020-10-08T19:14:28.969699",
     "status": "completed"
    },
    "tags": []
   },
   "outputs": [
    {
     "name": "stdout",
     "output_type": "stream",
     "text": [
      "nr.employed_rank\n",
      "A    0.467346\n",
      "B    0.225540\n",
      "C    0.054203\n",
      "Name: target, dtype: float64\n"
     ]
    },
    {
     "data": {
      "image/png": "[encoded data removed]",
      "text/plain": [
       "<Figure size 432x288 with 1 Axes>"
      ]
     },
     "metadata": {},
     "output_type": "display_data"
    }
   ],
   "source": [
    "barplot_mean('nr.employed_rank', 'target', df)"
   ]
  },
  {
   "cell_type": "code",
   "execution_count": 60,
   "metadata": {
    "execution": {
     "iopub.execute_input": "2020-10-08T19:14:30.046712Z",
     "iopub.status.busy": "2020-10-08T19:14:30.045921Z",
     "iopub.status.idle": "2020-10-08T19:14:30.132257Z",
     "shell.execute_reply": "2020-10-08T19:14:30.131595Z"
    },
    "papermill": {
     "duration": 0.257781,
     "end_time": "2020-10-08T19:14:30.132383",
     "exception": false,
     "start_time": "2020-10-08T19:14:29.874602",
     "status": "completed"
    },
    "tags": []
   },
   "outputs": [
    {
     "name": "stdout",
     "output_type": "stream",
     "text": [
      "<class 'pandas.core.frame.DataFrame'>\n",
      "RangeIndex: 41188 entries, 0 to 41187\n",
      "Data columns (total 33 columns):\n",
      " #   Column               Non-Null Count  Dtype  \n",
      "---  ------               --------------  -----  \n",
      " 0   age                  41188 non-null  int64  \n",
      " 1   job                  41188 non-null  object \n",
      " 2   marital              41188 non-null  object \n",
      " 3   education            41188 non-null  object \n",
      " 4   default              41188 non-null  object \n",
      " 5   housing              41188 non-null  object \n",
      " 6   loan                 41188 non-null  object \n",
      " 7   contact              41188 non-null  object \n",
      " 8   month                41188 non-null  object \n",
      " 9   day_of_week          41188 non-null  object \n",
      " 10  duration             41188 non-null  int64  \n",
      " 11  campaign             41188 non-null  int64  \n",
      " 12  pdays                41188 non-null  int64  \n",
      " 13  previous             41188 non-null  int64  \n",
      " 14  poutcome             41188 non-null  int64  \n",
      " 15  emp.var.rate         41188 non-null  float64\n",
      " 16  cons.price.idx       41188 non-null  float64\n",
      " 17  cons.conf.idx        41188 non-null  float64\n",
      " 18  euribor3m            41188 non-null  float64\n",
      " 19  nr.employed          41188 non-null  float64\n",
      " 20  y                    41188 non-null  object \n",
      " 21  target               41188 non-null  int64  \n",
      " 22  qtr                  41188 non-null  object \n",
      " 23  age_rank             41188 non-null  int8   \n",
      " 24  duration_rank        41188 non-null  int8   \n",
      " 25  campaign_rank        41188 non-null  int8   \n",
      " 26  pdays_rank           41188 non-null  int8   \n",
      " 27  prev_rank            41188 non-null  int8   \n",
      " 28  emp.var.rate_rank    41188 non-null  int8   \n",
      " 29  cons.price.idx_rank  41188 non-null  int8   \n",
      " 30  cons.conf.idx_rank   41188 non-null  int8   \n",
      " 31  euribor3m_rank       41188 non-null  int8   \n",
      " 32  nr.employed_rank     41188 non-null  object \n",
      "dtypes: float64(5), int64(7), int8(9), object(12)\n",
      "memory usage: 7.9+ MB\n"
     ]
    }
   ],
   "source": [
    "df.info()"
   ]
  },
  {
   "cell_type": "markdown",
   "metadata": {
    "papermill": {
     "duration": 0.164561,
     "end_time": "2020-10-08T19:14:30.463743",
     "exception": false,
     "start_time": "2020-10-08T19:14:30.299182",
     "status": "completed"
    },
    "tags": []
   },
   "source": [
    "# Modelling"
   ]
  },
  {
   "cell_type": "code",
   "execution_count": 61,
   "metadata": {
    "execution": {
     "iopub.execute_input": "2020-10-08T19:14:30.814198Z",
     "iopub.status.busy": "2020-10-08T19:14:30.813141Z",
     "iopub.status.idle": "2020-10-08T19:14:30.816609Z",
     "shell.execute_reply": "2020-10-08T19:14:30.815841Z"
    },
    "papermill": {
     "duration": 0.178468,
     "end_time": "2020-10-08T19:14:30.816756",
     "exception": false,
     "start_time": "2020-10-08T19:14:30.638288",
     "status": "completed"
    },
    "tags": []
   },
   "outputs": [],
   "source": [
    "# We are not considering education, job, day_of_week, housing, loan\n",
    "cols_cat = ['default', 'contact', 'poutcome', 'nr.employed_rank']\n",
    "\n",
    "# We are not considering age, duration, cons.conf.idx \n",
    "cols_num = ['campaign', 'pdays', 'previous', 'emp.var.rate', 'cons.price.idx', 'euribor3m'] #, 'duration']\n",
    "\n",
    "# NOTE: duration is added to improve the ROC score"
   ]
  },
  {
   "cell_type": "code",
   "execution_count": 62,
   "metadata": {
    "execution": {
     "iopub.execute_input": "2020-10-08T19:14:31.154974Z",
     "iopub.status.busy": "2020-10-08T19:14:31.152001Z",
     "iopub.status.idle": "2020-10-08T19:14:31.185431Z",
     "shell.execute_reply": "2020-10-08T19:14:31.184847Z"
    },
    "papermill": {
     "duration": 0.203605,
     "end_time": "2020-10-08T19:14:31.185570",
     "exception": false,
     "start_time": "2020-10-08T19:14:30.981965",
     "status": "completed"
    },
    "tags": []
   },
   "outputs": [
    {
     "data": {
      "text/html": [
       "<div>\n",
       "<style scoped>\n",
       "    .dataframe tbody tr th:only-of-type {\n",
       "        vertical-align: middle;\n",
       "    }\n",
       "\n",
       "    .dataframe tbody tr th {\n",
       "        vertical-align: top;\n",
       "    }\n",
       "\n",
       "    .dataframe thead th {\n",
       "        text-align: right;\n",
       "    }\n",
       "</style>\n",
       "<table border=\"1\" class=\"dataframe\">\n",
       "  <thead>\n",
       "    <tr style=\"text-align: right;\">\n",
       "      <th></th>\n",
       "      <th>poutcome</th>\n",
       "      <th>default_yes</th>\n",
       "      <th>contact_telephone</th>\n",
       "      <th>nr.employed_rank_B</th>\n",
       "      <th>nr.employed_rank_C</th>\n",
       "    </tr>\n",
       "  </thead>\n",
       "  <tbody>\n",
       "    <tr>\n",
       "      <th>0</th>\n",
       "      <td>0</td>\n",
       "      <td>0</td>\n",
       "      <td>1</td>\n",
       "      <td>0</td>\n",
       "      <td>1</td>\n",
       "    </tr>\n",
       "    <tr>\n",
       "      <th>1</th>\n",
       "      <td>0</td>\n",
       "      <td>1</td>\n",
       "      <td>1</td>\n",
       "      <td>0</td>\n",
       "      <td>1</td>\n",
       "    </tr>\n",
       "    <tr>\n",
       "      <th>2</th>\n",
       "      <td>0</td>\n",
       "      <td>0</td>\n",
       "      <td>1</td>\n",
       "      <td>0</td>\n",
       "      <td>1</td>\n",
       "    </tr>\n",
       "    <tr>\n",
       "      <th>3</th>\n",
       "      <td>0</td>\n",
       "      <td>0</td>\n",
       "      <td>1</td>\n",
       "      <td>0</td>\n",
       "      <td>1</td>\n",
       "    </tr>\n",
       "    <tr>\n",
       "      <th>4</th>\n",
       "      <td>0</td>\n",
       "      <td>0</td>\n",
       "      <td>1</td>\n",
       "      <td>0</td>\n",
       "      <td>1</td>\n",
       "    </tr>\n",
       "  </tbody>\n",
       "</table>\n",
       "</div>"
      ],
      "text/plain": [
       "   poutcome  default_yes  contact_telephone  nr.employed_rank_B  \\\n",
       "0         0            0                  1                   0   \n",
       "1         0            1                  1                   0   \n",
       "2         0            0                  1                   0   \n",
       "3         0            0                  1                   0   \n",
       "4         0            0                  1                   0   \n",
       "\n",
       "   nr.employed_rank_C  \n",
       "0                   1  \n",
       "1                   1  \n",
       "2                   1  \n",
       "3                   1  \n",
       "4                   1  "
      ]
     },
     "execution_count": 62,
     "metadata": {},
     "output_type": "execute_result"
    }
   ],
   "source": [
    "# dummy encoding categorical variable\n",
    "# ref: https://stackoverflow.com/questions/36631163/what-are-the-pros-and-cons-between-get-dummies-pandas-and-onehotencoder-sciki\n",
    "cols_cat_dummy = pd.get_dummies(df[cols_cat], drop_first=True)\n",
    "cols_cat_dummy.head()"
   ]
  },
  {
   "cell_type": "code",
   "execution_count": 63,
   "metadata": {
    "execution": {
     "iopub.execute_input": "2020-10-08T19:14:31.532892Z",
     "iopub.status.busy": "2020-10-08T19:14:31.531699Z",
     "iopub.status.idle": "2020-10-08T19:14:31.550320Z",
     "shell.execute_reply": "2020-10-08T19:14:31.549697Z"
    },
    "papermill": {
     "duration": 0.200674,
     "end_time": "2020-10-08T19:14:31.550441",
     "exception": false,
     "start_time": "2020-10-08T19:14:31.349767",
     "status": "completed"
    },
    "tags": []
   },
   "outputs": [
    {
     "data": {
      "text/html": [
       "<div>\n",
       "<style scoped>\n",
       "    .dataframe tbody tr th:only-of-type {\n",
       "        vertical-align: middle;\n",
       "    }\n",
       "\n",
       "    .dataframe tbody tr th {\n",
       "        vertical-align: top;\n",
       "    }\n",
       "\n",
       "    .dataframe thead th {\n",
       "        text-align: right;\n",
       "    }\n",
       "</style>\n",
       "<table border=\"1\" class=\"dataframe\">\n",
       "  <thead>\n",
       "    <tr style=\"text-align: right;\">\n",
       "      <th></th>\n",
       "      <th>campaign</th>\n",
       "      <th>pdays</th>\n",
       "      <th>previous</th>\n",
       "      <th>emp.var.rate</th>\n",
       "      <th>cons.price.idx</th>\n",
       "      <th>euribor3m</th>\n",
       "      <th>poutcome</th>\n",
       "      <th>default_yes</th>\n",
       "      <th>contact_telephone</th>\n",
       "      <th>nr.employed_rank_B</th>\n",
       "      <th>nr.employed_rank_C</th>\n",
       "    </tr>\n",
       "  </thead>\n",
       "  <tbody>\n",
       "    <tr>\n",
       "      <th>0</th>\n",
       "      <td>1</td>\n",
       "      <td>999</td>\n",
       "      <td>0</td>\n",
       "      <td>1.1</td>\n",
       "      <td>93.994</td>\n",
       "      <td>4.857</td>\n",
       "      <td>0</td>\n",
       "      <td>0</td>\n",
       "      <td>1</td>\n",
       "      <td>0</td>\n",
       "      <td>1</td>\n",
       "    </tr>\n",
       "    <tr>\n",
       "      <th>1</th>\n",
       "      <td>1</td>\n",
       "      <td>999</td>\n",
       "      <td>0</td>\n",
       "      <td>1.1</td>\n",
       "      <td>93.994</td>\n",
       "      <td>4.857</td>\n",
       "      <td>0</td>\n",
       "      <td>1</td>\n",
       "      <td>1</td>\n",
       "      <td>0</td>\n",
       "      <td>1</td>\n",
       "    </tr>\n",
       "    <tr>\n",
       "      <th>2</th>\n",
       "      <td>1</td>\n",
       "      <td>999</td>\n",
       "      <td>0</td>\n",
       "      <td>1.1</td>\n",
       "      <td>93.994</td>\n",
       "      <td>4.857</td>\n",
       "      <td>0</td>\n",
       "      <td>0</td>\n",
       "      <td>1</td>\n",
       "      <td>0</td>\n",
       "      <td>1</td>\n",
       "    </tr>\n",
       "    <tr>\n",
       "      <th>3</th>\n",
       "      <td>1</td>\n",
       "      <td>999</td>\n",
       "      <td>0</td>\n",
       "      <td>1.1</td>\n",
       "      <td>93.994</td>\n",
       "      <td>4.857</td>\n",
       "      <td>0</td>\n",
       "      <td>0</td>\n",
       "      <td>1</td>\n",
       "      <td>0</td>\n",
       "      <td>1</td>\n",
       "    </tr>\n",
       "    <tr>\n",
       "      <th>4</th>\n",
       "      <td>1</td>\n",
       "      <td>999</td>\n",
       "      <td>0</td>\n",
       "      <td>1.1</td>\n",
       "      <td>93.994</td>\n",
       "      <td>4.857</td>\n",
       "      <td>0</td>\n",
       "      <td>0</td>\n",
       "      <td>1</td>\n",
       "      <td>0</td>\n",
       "      <td>1</td>\n",
       "    </tr>\n",
       "  </tbody>\n",
       "</table>\n",
       "</div>"
      ],
      "text/plain": [
       "   campaign  pdays  previous  emp.var.rate  cons.price.idx  euribor3m  \\\n",
       "0         1    999         0           1.1          93.994      4.857   \n",
       "1         1    999         0           1.1          93.994      4.857   \n",
       "2         1    999         0           1.1          93.994      4.857   \n",
       "3         1    999         0           1.1          93.994      4.857   \n",
       "4         1    999         0           1.1          93.994      4.857   \n",
       "\n",
       "   poutcome  default_yes  contact_telephone  nr.employed_rank_B  \\\n",
       "0         0            0                  1                   0   \n",
       "1         0            1                  1                   0   \n",
       "2         0            0                  1                   0   \n",
       "3         0            0                  1                   0   \n",
       "4         0            0                  1                   0   \n",
       "\n",
       "   nr.employed_rank_C  \n",
       "0                   1  \n",
       "1                   1  \n",
       "2                   1  \n",
       "3                   1  \n",
       "4                   1  "
      ]
     },
     "execution_count": 63,
     "metadata": {},
     "output_type": "execute_result"
    }
   ],
   "source": [
    "X_all = pd.concat([df[cols_num], cols_cat_dummy], axis=1, join='inner')\n",
    "X_all.head()"
   ]
  },
  {
   "cell_type": "code",
   "execution_count": 64,
   "metadata": {
    "execution": {
     "iopub.execute_input": "2020-10-08T19:14:31.904316Z",
     "iopub.status.busy": "2020-10-08T19:14:31.903219Z",
     "iopub.status.idle": "2020-10-08T19:14:31.906858Z",
     "shell.execute_reply": "2020-10-08T19:14:31.906168Z"
    },
    "papermill": {
     "duration": 0.17413,
     "end_time": "2020-10-08T19:14:31.906981",
     "exception": false,
     "start_time": "2020-10-08T19:14:31.732851",
     "status": "completed"
    },
    "tags": []
   },
   "outputs": [],
   "source": [
    "# Assigning X and Y\n",
    "X = X_all\n",
    "y = df['target']"
   ]
  },
  {
   "cell_type": "markdown",
   "metadata": {
    "papermill": {
     "duration": 0.166322,
     "end_time": "2020-10-08T19:14:32.243503",
     "exception": false,
     "start_time": "2020-10-08T19:14:32.077181",
     "status": "completed"
    },
    "tags": []
   },
   "source": [
    "# Splitting the data set"
   ]
  },
  {
   "cell_type": "code",
   "execution_count": 65,
   "metadata": {
    "execution": {
     "iopub.execute_input": "2020-10-08T19:14:32.585773Z",
     "iopub.status.busy": "2020-10-08T19:14:32.584251Z",
     "iopub.status.idle": "2020-10-08T19:14:32.596647Z",
     "shell.execute_reply": "2020-10-08T19:14:32.595810Z"
    },
    "papermill": {
     "duration": 0.18771,
     "end_time": "2020-10-08T19:14:32.596779",
     "exception": false,
     "start_time": "2020-10-08T19:14:32.409069",
     "status": "completed"
    },
    "tags": []
   },
   "outputs": [
    {
     "name": "stdout",
     "output_type": "stream",
     "text": [
      "(28831, 11) (12357, 11) (28831,) (12357,)\n"
     ]
    }
   ],
   "source": [
    "# Train-Val split 75-25\n",
    "X_train, X_val, y_train, y_val = train_test_split(X, y, random_state=101, test_size=0.30)\n",
    "\n",
    "print(X_train.shape, X_val.shape, y_train.shape, y_val.shape)"
   ]
  },
  {
   "cell_type": "code",
   "execution_count": 66,
   "metadata": {
    "execution": {
     "iopub.execute_input": "2020-10-08T19:14:32.943212Z",
     "iopub.status.busy": "2020-10-08T19:14:32.941814Z",
     "iopub.status.idle": "2020-10-08T19:14:41.260180Z",
     "shell.execute_reply": "2020-10-08T19:14:41.259294Z"
    },
    "papermill": {
     "duration": 8.495857,
     "end_time": "2020-10-08T19:14:41.260348",
     "exception": false,
     "start_time": "2020-10-08T19:14:32.764491",
     "status": "completed"
    },
    "tags": []
   },
   "outputs": [
    {
     "data": {
      "text/plain": [
       "RandomForestClassifier(max_depth=2, n_estimators=1000, random_state=101)"
      ]
     },
     "execution_count": 66,
     "metadata": {},
     "output_type": "execute_result"
    }
   ],
   "source": [
    "lr = LogisticRegression()\n",
    "lr.fit(X_train, y_train)\n",
    "\n",
    "# TODO: Do a grid search to explore best parameters\n",
    "dt = DecisionTreeClassifier(criterion=\"gini\", random_state=101, max_depth=7, min_samples_leaf=5)\n",
    "dt.fit(X_train, y_train)\n",
    "\n",
    "rf_1000 = RandomForestClassifier(n_estimators=1000, random_state=101, criterion=\"gini\", max_features=\"auto\", max_depth=2)\n",
    "rf_1000.fit(X_train, y_train)"
   ]
  },
  {
   "cell_type": "markdown",
   "metadata": {
    "papermill": {
     "duration": 0.173386,
     "end_time": "2020-10-08T19:14:41.609276",
     "exception": false,
     "start_time": "2020-10-08T19:14:41.435890",
     "status": "completed"
    },
    "tags": []
   },
   "source": [
    "# Prediction"
   ]
  },
  {
   "cell_type": "code",
   "execution_count": 67,
   "metadata": {
    "execution": {
     "iopub.execute_input": "2020-10-08T19:14:41.961686Z",
     "iopub.status.busy": "2020-10-08T19:14:41.960752Z",
     "iopub.status.idle": "2020-10-08T19:14:41.970487Z",
     "shell.execute_reply": "2020-10-08T19:14:41.969817Z"
    },
    "papermill": {
     "duration": 0.189287,
     "end_time": "2020-10-08T19:14:41.970634",
     "exception": false,
     "start_time": "2020-10-08T19:14:41.781347",
     "status": "completed"
    },
    "tags": []
   },
   "outputs": [
    {
     "name": "stdout",
     "output_type": "stream",
     "text": [
      "Accuracy of logistic regression on test set 0.90\n"
     ]
    }
   ],
   "source": [
    "y_pred = lr.predict(X_val)\n",
    "print(\"Accuracy of logistic regression on test set {:.2f}\".format(lr.score(X_val, y_val)))"
   ]
  },
  {
   "cell_type": "code",
   "execution_count": 68,
   "metadata": {
    "execution": {
     "iopub.execute_input": "2020-10-08T19:14:42.322706Z",
     "iopub.status.busy": "2020-10-08T19:14:42.321914Z",
     "iopub.status.idle": "2020-10-08T19:14:42.332842Z",
     "shell.execute_reply": "2020-10-08T19:14:42.333618Z"
    },
    "papermill": {
     "duration": 0.189418,
     "end_time": "2020-10-08T19:14:42.333801",
     "exception": false,
     "start_time": "2020-10-08T19:14:42.144383",
     "status": "completed"
    },
    "tags": []
   },
   "outputs": [
    {
     "name": "stdout",
     "output_type": "stream",
     "text": [
      "Accuracy of decision tree on test set 0.90\n"
     ]
    }
   ],
   "source": [
    "y_pred_tree = dt.predict(X_val)\n",
    "print(\"Accuracy of decision tree on test set {:.2f}\".format(dt.score(X_val, y_val)))"
   ]
  },
  {
   "cell_type": "code",
   "execution_count": 69,
   "metadata": {
    "execution": {
     "iopub.execute_input": "2020-10-08T19:14:42.706193Z",
     "iopub.status.busy": "2020-10-08T19:14:42.705352Z",
     "iopub.status.idle": "2020-10-08T19:14:44.098037Z",
     "shell.execute_reply": "2020-10-08T19:14:44.098674Z"
    },
    "papermill": {
     "duration": 1.59336,
     "end_time": "2020-10-08T19:14:44.098853",
     "exception": false,
     "start_time": "2020-10-08T19:14:42.505493",
     "status": "completed"
    },
    "tags": []
   },
   "outputs": [
    {
     "name": "stdout",
     "output_type": "stream",
     "text": [
      "Accuracy of random forest on test set 0.90\n"
     ]
    }
   ],
   "source": [
    "y_pred_rf = rf_1000.predict(X_val)\n",
    "print(\"Accuracy of random forest on test set {:.2f}\".format(rf_1000.score(X_val, y_val)))"
   ]
  },
  {
   "cell_type": "code",
   "execution_count": 70,
   "metadata": {
    "execution": {
     "iopub.execute_input": "2020-10-08T19:14:44.456920Z",
     "iopub.status.busy": "2020-10-08T19:14:44.455748Z",
     "iopub.status.idle": "2020-10-08T19:14:46.641725Z",
     "shell.execute_reply": "2020-10-08T19:14:46.641080Z"
    },
    "papermill": {
     "duration": 2.364895,
     "end_time": "2020-10-08T19:14:46.641862",
     "exception": false,
     "start_time": "2020-10-08T19:14:44.276967",
     "status": "completed"
    },
    "tags": []
   },
   "outputs": [
    {
     "ename": "NameError",
     "evalue": "name 'rf_200_train_score' is not defined",
     "output_type": "error",
     "traceback": [
      "\u001b[0;31m---------------------------------------------------------------------------\u001b[0m",
      "\u001b[0;31mNameError\u001b[0m                                 Traceback (most recent call last)",
      "\u001b[0;32m<ipython-input-70-5541430fb883>\u001b[0m in \u001b[0;36m<module>\u001b[0;34m\u001b[0m\n\u001b[1;32m      3\u001b[0m \u001b[0;34m\u001b[0m\u001b[0m\n\u001b[1;32m      4\u001b[0m \u001b[0;34m\u001b[0m\u001b[0m\n\u001b[0;32m----> 5\u001b[0;31m \u001b[0mprint\u001b[0m\u001b[0;34m(\u001b[0m\u001b[0;34m\"Training Score:\"\u001b[0m\u001b[0;34m,\u001b[0m \u001b[0mrf_200_train_score\u001b[0m\u001b[0;34m)\u001b[0m\u001b[0;34m\u001b[0m\u001b[0;34m\u001b[0m\u001b[0m\n\u001b[0m\u001b[1;32m      6\u001b[0m \u001b[0mprint\u001b[0m\u001b[0;34m(\u001b[0m\u001b[0;34m\"Test Score:\"\u001b[0m\u001b[0;34m,\u001b[0m \u001b[0mrf_200_test_score\u001b[0m\u001b[0;34m)\u001b[0m\u001b[0;34m\u001b[0m\u001b[0;34m\u001b[0m\u001b[0m\n",
      "\u001b[0;31mNameError\u001b[0m: name 'rf_200_train_score' is not defined"
     ]
    }
   ],
   "source": [
    "rf_1000_train_score = rf_1000.score(X_train, y_train)\n",
    "rf_1000_test_score = rf_1000.score(X_val, y_val)\n",
    "\n",
    "\n",
    "print(\"Training Score:\", rf_200_train_score)\n",
    "print(\"Test Score:\", rf_200_test_score)"
   ]
  },
  {
   "cell_type": "markdown",
   "metadata": {
    "papermill": {
     "duration": 0.168309,
     "end_time": "2020-10-08T19:14:46.979951",
     "exception": false,
     "start_time": "2020-10-08T19:14:46.811642",
     "status": "completed"
    },
    "tags": []
   },
   "source": [
    "# Confusion Matrices -- Classification Reports"
   ]
  },
  {
   "cell_type": "code",
   "execution_count": 71,
   "metadata": {
    "execution": {
     "iopub.execute_input": "2020-10-08T19:14:47.328635Z",
     "iopub.status.busy": "2020-10-08T19:14:47.327872Z",
     "iopub.status.idle": "2020-10-08T19:14:47.548072Z",
     "shell.execute_reply": "2020-10-08T19:14:47.548683Z"
    },
    "papermill": {
     "duration": 0.398825,
     "end_time": "2020-10-08T19:14:47.548847",
     "exception": false,
     "start_time": "2020-10-08T19:14:47.150022",
     "status": "completed"
    },
    "tags": []
   },
   "outputs": [
    {
     "name": "stdout",
     "output_type": "stream",
     "text": [
      "              precision    recall  f1-score   support\n",
      "\n",
      "           0       0.91      0.99      0.95     10978\n",
      "           1       0.72      0.19      0.30      1379\n",
      "\n",
      "    accuracy                           0.90     12357\n",
      "   macro avg       0.81      0.59      0.62     12357\n",
      "weighted avg       0.89      0.90      0.87     12357\n",
      "\n"
     ]
    },
    {
     "data": {
      "image/png": "[encoded data removed]",
      "text/plain": [
       "<Figure size 432x288 with 2 Axes>"
      ]
     },
     "metadata": {},
     "output_type": "display_data"
    }
   ],
   "source": [
    "sns.set_style({'axes.grid' : False})\n",
    "# logistic regression\n",
    "plot_confusion_matrix(lr, X_val, y_val)\n",
    "print(classification_report(y_val, y_pred))"
   ]
  },
  {
   "cell_type": "code",
   "execution_count": 72,
   "metadata": {
    "execution": {
     "iopub.execute_input": "2020-10-08T19:14:47.898061Z",
     "iopub.status.busy": "2020-10-08T19:14:47.897231Z",
     "iopub.status.idle": "2020-10-08T19:14:48.113736Z",
     "shell.execute_reply": "2020-10-08T19:14:48.114318Z"
    },
    "papermill": {
     "duration": 0.392374,
     "end_time": "2020-10-08T19:14:48.114484",
     "exception": false,
     "start_time": "2020-10-08T19:14:47.722110",
     "status": "completed"
    },
    "tags": []
   },
   "outputs": [
    {
     "name": "stdout",
     "output_type": "stream",
     "text": [
      "              precision    recall  f1-score   support\n",
      "\n",
      "           0       0.91      0.98      0.95     10978\n",
      "           1       0.65      0.25      0.36      1379\n",
      "\n",
      "    accuracy                           0.90     12357\n",
      "   macro avg       0.78      0.61      0.65     12357\n",
      "weighted avg       0.88      0.90      0.88     12357\n",
      "\n"
     ]
    },
    {
     "data": {
      "text/plain": [
       "<sklearn.metrics._plot.confusion_matrix.ConfusionMatrixDisplay at 0x7f50f09b6fd0>"
      ]
     },
     "execution_count": 72,
     "metadata": {},
     "output_type": "execute_result"
    },
    {
     "data": {
      "image/png": "[encoded data removed]",
      "text/plain": [
       "<Figure size 432x288 with 2 Axes>"
      ]
     },
     "metadata": {},
     "output_type": "display_data"
    }
   ],
   "source": [
    "# decision tree\n",
    "print(classification_report(y_val, y_pred_tree))\n",
    "plot_confusion_matrix(dt, X_val, y_val)"
   ]
  },
  {
   "cell_type": "code",
   "execution_count": 73,
   "metadata": {
    "execution": {
     "iopub.execute_input": "2020-10-08T19:14:48.467206Z",
     "iopub.status.busy": "2020-10-08T19:14:48.466411Z",
     "iopub.status.idle": "2020-10-08T19:14:49.341390Z",
     "shell.execute_reply": "2020-10-08T19:14:49.340673Z"
    },
    "papermill": {
     "duration": 1.053348,
     "end_time": "2020-10-08T19:14:49.341509",
     "exception": false,
     "start_time": "2020-10-08T19:14:48.288161",
     "status": "completed"
    },
    "tags": []
   },
   "outputs": [
    {
     "name": "stdout",
     "output_type": "stream",
     "text": [
      "              precision    recall  f1-score   support\n",
      "\n",
      "           0       0.90      0.99      0.95     10978\n",
      "           1       0.74      0.16      0.26      1379\n",
      "\n",
      "    accuracy                           0.90     12357\n",
      "   macro avg       0.82      0.57      0.60     12357\n",
      "weighted avg       0.89      0.90      0.87     12357\n",
      "\n"
     ]
    },
    {
     "data": {
      "text/plain": [
       "<sklearn.metrics._plot.confusion_matrix.ConfusionMatrixDisplay at 0x7f50f0f72d10>"
      ]
     },
     "execution_count": 73,
     "metadata": {},
     "output_type": "execute_result"
    },
    {
     "data": {
      "image/png": "[encoded data removed]",
      "text/plain": [
       "<Figure size 432x288 with 2 Axes>"
      ]
     },
     "metadata": {},
     "output_type": "display_data"
    }
   ],
   "source": [
    "# random forest\n",
    "print(classification_report(y_val, y_pred_rf))\n",
    "plot_confusion_matrix(rf_1000, X_val, y_val)"
   ]
  },
  {
   "cell_type": "markdown",
   "metadata": {
    "papermill": {
     "duration": 0.177184,
     "end_time": "2020-10-08T19:14:49.693313",
     "exception": false,
     "start_time": "2020-10-08T19:14:49.516129",
     "status": "completed"
    },
    "tags": []
   },
   "source": [
    "# Plotting the ROC curves"
   ]
  },
  {
   "cell_type": "code",
   "execution_count": 74,
   "metadata": {
    "execution": {
     "iopub.execute_input": "2020-10-08T19:14:50.065108Z",
     "iopub.status.busy": "2020-10-08T19:14:50.062711Z",
     "iopub.status.idle": "2020-10-08T19:14:51.675071Z",
     "shell.execute_reply": "2020-10-08T19:14:51.674310Z"
    },
    "papermill": {
     "duration": 1.804232,
     "end_time": "2020-10-08T19:14:51.675193",
     "exception": false,
     "start_time": "2020-10-08T19:14:49.870961",
     "status": "completed"
    },
    "tags": []
   },
   "outputs": [
    {
     "data": {
      "image/png": "[encoded data removed]",
      "text/plain": [
       "<Figure size 432x288 with 1 Axes>"
      ]
     },
     "metadata": {},
     "output_type": "display_data"
    }
   ],
   "source": [
    "lr_roc_auc = roc_auc_score(y_val, lr.predict(X_val))\n",
    "dt_roc_auc = roc_auc_score(y_val, dt.predict(X_val))\n",
    "rf_roc_auc = roc_auc_score(y_val, rf_1000.predict(X_val))\n",
    "\n",
    "fpr, tpr, thresholds = roc_curve(y_val, lr.predict_proba(X_val)[:, 1])\n",
    "fpr, tpr, thresholds = roc_curve(y_val, dt.predict_proba(X_val)[:, 1])\n",
    "fpr, tpr, thresholds = roc_curve(y_val, rf_1000.predict_proba(X_val)[:, 1])\n",
    "\n",
    "plt.figure()\n",
    "\n",
    "plt.plot(fpr, tpr, 'b', label = 'LR AUC = %0.2f' % lr_roc_auc)\n",
    "plt.plot(fpr, tpr, 'r', label = 'DT AUC = %0.2f' % dt_roc_auc)\n",
    "plt.plot(fpr, tpr, 'g', label = 'RF AUC = %0.2f' % rf_roc_auc)\n",
    "\n",
    "plt.legend(loc = 'lower right')\n",
    "plt.plot([0, 1], [0, 1],'r--')\n",
    "plt.xlim([0, 1])\n",
    "plt.ylim([0, 1])\n",
    "plt.ylabel('True Positive Rate')\n",
    "plt.xlabel('False Positive Rate')\n",
    "plt.savefig('LR DT RF ROC Curve')\n",
    "plt.show()\n",
    "\n"
   ]
  },
  {
   "cell_type": "code",
   "execution_count": 75,
   "metadata": {
    "execution": {
     "iopub.execute_input": "2020-10-08T19:14:52.035218Z",
     "iopub.status.busy": "2020-10-08T19:14:52.034415Z",
     "iopub.status.idle": "2020-10-08T19:14:52.037132Z",
     "shell.execute_reply": "2020-10-08T19:14:52.037694Z"
    },
    "papermill": {
     "duration": 0.184729,
     "end_time": "2020-10-08T19:14:52.037865",
     "exception": false,
     "start_time": "2020-10-08T19:14:51.853136",
     "status": "completed"
    },
    "tags": []
   },
   "outputs": [],
   "source": [
    "### The score is coming in the range of late 50s, lets try to improve the model by incorporating `duration`\n",
    "\n",
    "### After using `duration`, we are able to get the score upto `0.77` for decision tree"
   ]
  },
  {
   "cell_type": "markdown",
   "metadata": {
    "papermill": {
     "duration": 0.177675,
     "end_time": "2020-10-08T19:14:52.394034",
     "exception": false,
     "start_time": "2020-10-08T19:14:52.216359",
     "status": "completed"
    },
    "tags": []
   },
   "source": [
    "# Making sense from the model - Lorenz curve"
   ]
  },
  {
   "cell_type": "code",
   "execution_count": 76,
   "metadata": {
    "execution": {
     "iopub.execute_input": "2020-10-08T19:14:52.761147Z",
     "iopub.status.busy": "2020-10-08T19:14:52.759840Z",
     "iopub.status.idle": "2020-10-08T19:14:52.784908Z",
     "shell.execute_reply": "2020-10-08T19:14:52.784251Z"
    },
    "papermill": {
     "duration": 0.212202,
     "end_time": "2020-10-08T19:14:52.785030",
     "exception": false,
     "start_time": "2020-10-08T19:14:52.572828",
     "status": "completed"
    },
    "tags": []
   },
   "outputs": [
    {
     "data": {
      "text/plain": [
       "P_rank\n",
       "1     0.031804\n",
       "2     0.054625\n",
       "3     0.041515\n",
       "4     0.035697\n",
       "5     0.054625\n",
       "6     0.060694\n",
       "7     0.058524\n",
       "8     0.089342\n",
       "9     0.216800\n",
       "10    0.482884\n",
       "Name: target, dtype: float64"
      ]
     },
     "execution_count": 76,
     "metadata": {},
     "output_type": "execute_result"
    }
   ],
   "source": [
    "# Ranking the probabilities from the logistic regression model\n",
    "\n",
    "y_pred_prob = lr.predict_proba(X)[:,1]\n",
    "df['y_pred_P'] = pd.DataFrame(y_pred_prob)\n",
    "df['P_rank'] = pd.qcut(df['y_pred_P'].rank(method='first').values, 10, duplicates='drop').codes+1\n",
    "df.groupby('P_rank')['target'].mean()\n",
    "\n",
    "# The highest rank has a likelihood of 48.28 percent (~ 4.3 times better than the average)"
   ]
  },
  {
   "cell_type": "code",
   "execution_count": 77,
   "metadata": {
    "execution": {
     "iopub.execute_input": "2020-10-08T19:14:53.152973Z",
     "iopub.status.busy": "2020-10-08T19:14:53.152116Z",
     "iopub.status.idle": "2020-10-08T19:14:53.175586Z",
     "shell.execute_reply": "2020-10-08T19:14:53.174918Z"
    },
    "papermill": {
     "duration": 0.212575,
     "end_time": "2020-10-08T19:14:53.175713",
     "exception": false,
     "start_time": "2020-10-08T19:14:52.963138",
     "status": "completed"
    },
    "tags": []
   },
   "outputs": [
    {
     "data": {
      "text/plain": [
       "P_rank_dtree\n",
       "1     0.026948\n",
       "2     0.031318\n",
       "3     0.040544\n",
       "4     0.052695\n",
       "5     0.066278\n",
       "6     0.058024\n",
       "7     0.055367\n",
       "8     0.079388\n",
       "9     0.200291\n",
       "10    0.515659\n",
       "Name: target, dtype: float64"
      ]
     },
     "execution_count": 77,
     "metadata": {},
     "output_type": "execute_result"
    }
   ],
   "source": [
    "# Ranking the probabilities from the logistic regression model\n",
    "\n",
    "y_pred_prob_dtree = dt.predict_proba(X)[:,1]\n",
    "df['y_pred_P_dtree'] = pd.DataFrame(y_pred_prob_dtree)\n",
    "df['P_rank_dtree'] = pd.qcut(df['y_pred_P_dtree'].rank(method='first').values, 10, duplicates='drop').codes+1\n",
    "df.groupby('P_rank_dtree')['target'].mean()\n",
    "\n",
    "# The highest rank has a likelihood of 51.56 percent (~ 4.6 times better than the average)"
   ]
  },
  {
   "cell_type": "markdown",
   "metadata": {
    "papermill": {
     "duration": 0.180742,
     "end_time": "2020-10-08T19:14:53.535647",
     "exception": false,
     "start_time": "2020-10-08T19:14:53.354905",
     "status": "completed"
    },
    "tags": []
   },
   "source": [
    "### From a discrimination point of view, decision tree is able to give a better likelihood"
   ]
  },
  {
   "cell_type": "code",
   "execution_count": 78,
   "metadata": {
    "execution": {
     "iopub.execute_input": "2020-10-08T19:14:53.928495Z",
     "iopub.status.busy": "2020-10-08T19:14:53.927692Z",
     "iopub.status.idle": "2020-10-08T19:14:55.308363Z",
     "shell.execute_reply": "2020-10-08T19:14:55.307687Z"
    },
    "papermill": {
     "duration": 1.564088,
     "end_time": "2020-10-08T19:14:55.308508",
     "exception": false,
     "start_time": "2020-10-08T19:14:53.744420",
     "status": "completed"
    },
    "tags": []
   },
   "outputs": [],
   "source": [
    "df.to_csv('telemarketing_model_scored_file.csv')"
   ]
  },
  {
   "cell_type": "code",
   "execution_count": null,
   "metadata": {
    "papermill": {
     "duration": 0.177327,
     "end_time": "2020-10-08T19:14:55.664068",
     "exception": false,
     "start_time": "2020-10-08T19:14:55.486741",
     "status": "completed"
    },
    "tags": []
   },
   "outputs": [],
   "source": []
  }
 ],
 "metadata": {
  "kernelspec": {
   "display_name": "Python 3",
   "language": "python",
   "name": "python3"
  },
  "language_info": {
   "codemirror_mode": {
    "name": "ipython",
    "version": 3
   },
   "file_extension": ".py",
   "mimetype": "text/x-python",
   "name": "python",
   "nbconvert_exporter": "python",
   "pygments_lexer": "ipython3",
   "version": "3.7.6"
  },
  "papermill": {
   "duration": 87.686324,
   "end_time": "2020-10-08T19:14:55.952087",
   "environment_variables": {},
   "exception": null,
   "input_path": "__notebook__.ipynb",
   "output_path": "__notebook__.ipynb",
   "parameters": {},
   "start_time": "2020-10-08T19:13:28.265763",
   "version": "2.1.0"
  }
 },
 "nbformat": 4,
 "nbformat_minor": 4
}
